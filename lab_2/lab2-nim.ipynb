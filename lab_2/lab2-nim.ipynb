{
 "cells": [
  {
   "cell_type": "markdown",
   "metadata": {
    "pycharm": {
     "name": "#%% md\n"
    }
   },
   "source": [
    "Copyright **`(c)`** 2022 Giovanni Squillero `<squillero@polito.it>`  \n",
    "[`https://github.com/squillero/computational-intelligence`](https://github.com/squillero/computational-intelligence)  \n",
    "Free for personal or classroom use; see [`LICENSE.md`](https://github.com/squillero/computational-intelligence/blob/master/LICENSE.md) for details.  \n"
   ]
  },
  {
   "cell_type": "markdown",
   "metadata": {
    "pycharm": {
     "name": "#%%\n"
    }
   },
   "source": [
    "# Lab 3: ES\n",
    "\n",
    "## Task\n",
    "\n",
    "Write agents able to play [*Nim*](https://en.wikipedia.org/wiki/Nim), with an arbitrary number of rows and an upper bound $k$ on the number of objects that can be removed in a turn (a.k.a., *subtraction game*).\n",
    "\n",
    "The goal of the game is to **avoid** taking the last object.\n",
    "\n",
    "* Task2.1: An agent using fixed rules based on *nim-sum* (i.e., an *expert system*)\n",
    "* Task2.2: An agent using evolved rules using ES\n",
    "\n",
    "## Instructions\n",
    "\n",
    "* Create the directory `lab2` inside your personal course repository for the course \n",
    "* Put a `README.md` and your solution (all the files, code and auxiliary data if needed)\n",
    "\n",
    "## Notes\n",
    "\n",
    "* Working in group is not only allowed, but recommended (see: [Ubuntu](https://en.wikipedia.org/wiki/Ubuntu_philosophy) and [Cooperative Learning](https://files.eric.ed.gov/fulltext/EJ1096789.pdf)). Collaborations must be explicitly declared in the `README.md`.\n",
    "* [Yanking](https://www.emacswiki.org/emacs/KillingAndYanking) from the internet is allowed, but sources must be explicitly declared in the `README.md`.\n",
    "\n"
   ]
  },
  {
   "cell_type": "code",
   "execution_count": null,
   "metadata": {},
   "outputs": [],
   "source": [
    "import logging\n",
    "from pprint import pprint, pformat\n",
    "from collections import namedtuple\n",
    "import random\n",
    "from copy import deepcopy"
   ]
  },
  {
   "cell_type": "markdown",
   "metadata": {},
   "source": [
    "## The *Nim* and *Nimply* classes"
   ]
  },
  {
   "cell_type": "code",
   "execution_count": null,
   "metadata": {},
   "outputs": [],
   "source": [
    "Nimply = namedtuple(\"Nimply\", \"row, num_objects\")\n"
   ]
  },
  {
   "cell_type": "code",
   "execution_count": null,
   "metadata": {},
   "outputs": [],
   "source": [
    "class Nim:\n",
    "    def __init__(self, num_rows: int, k: int = None) -> None:\n",
    "        self._rows = [i * 2 + 1 for i in range(num_rows)]\n",
    "        self._k = k\n",
    "\n",
    "    def __bool__(self):\n",
    "        return sum(self._rows) > 0\n",
    "\n",
    "    def __str__(self):\n",
    "        return \"<\" + \" \".join(str(_) for _ in self._rows) + \">\"\n",
    "\n",
    "    @property\n",
    "    def rows(self) -> tuple:\n",
    "        return tuple(self._rows)\n",
    "\n",
    "    def nimming(self, ply: Nimply) -> None:\n",
    "        row, num_objects = ply\n",
    "       # print(f\"k: {self._k}\")\n",
    "        #print(f\"nimming value: {num_objects}\")\n",
    "        assert self._rows[row] >= num_objects\n",
    "        assert self._k is None or num_objects <= self._k\n",
    "        self._rows[row] -= num_objects\n"
   ]
  },
  {
   "cell_type": "markdown",
   "metadata": {},
   "source": [
    "## Sample (and silly) startegies "
   ]
  },
  {
   "cell_type": "code",
   "execution_count": null,
   "metadata": {},
   "outputs": [],
   "source": [
    "def pure_random(state: Nim) -> Nimply:\n",
    "    \"\"\"A completely random move\"\"\"\n",
    "    row = random.choice([r for r, c in enumerate(state.rows) if c > 0])\n",
    "    num_objects = random.randint(1, state.rows[row])\n",
    "    return Nimply(row, num_objects)\n"
   ]
  },
  {
   "cell_type": "code",
   "execution_count": null,
   "metadata": {},
   "outputs": [],
   "source": [
    "def gabriele(state: Nim) -> Nimply:\n",
    "    \"\"\"Pick always the maximum possible number of the lowest row\"\"\"\n",
    "    possible_moves = [(r, o) for r, c in enumerate(state.rows) for o in range(1, c + 1)]\n",
    "    return Nimply(*max(possible_moves, key=lambda m: (-m[0], m[1])))\n"
   ]
  },
  {
   "cell_type": "code",
   "execution_count": null,
   "metadata": {},
   "outputs": [],
   "source": [
    "def adaptive(state: Nim) -> Nimply:\n",
    "    \"\"\"A strategy that can adapt its parameters\"\"\"\n",
    "    genome = {\"love_small\": 0.5}\n"
   ]
  },
  {
   "cell_type": "code",
   "execution_count": null,
   "metadata": {},
   "outputs": [],
   "source": [
    "import numpy as np\n",
    "\n",
    "\n",
    "def nim_sum(state: Nim) -> int:\n",
    "    tmp = np.array([tuple(int(x) for x in f\"{c:032b}\") for c in state.rows])\n",
    "    xor = tmp.sum(axis=0) % 2\n",
    "    return int(\"\".join(str(_) for _ in xor), base=2)\n",
    "\n",
    "\n",
    "def analize(raw: Nim) -> dict:\n",
    "    cooked = dict()\n",
    "    cooked[\"possible_moves\"] = dict()\n",
    "    for ply in (Nimply(r, o) for r, c in enumerate(raw.rows) for o in range(1, c + 1)):\n",
    "        tmp = deepcopy(raw)\n",
    "        tmp.nimming(ply)\n",
    "        cooked[\"possible_moves\"][ply] = nim_sum(tmp)\n",
    "    return cooked\n",
    "\n",
    "\n",
    "def optimal(state: Nim) -> Nimply:\n",
    "    analysis = analize(state)\n",
    "    logging.debug(f\"analysis:\\n{pformat(analysis)}\")\n",
    "    spicy_moves = [ply for ply, ns in analysis[\"possible_moves\"].items() if ns != 0]\n",
    "    if not spicy_moves:\n",
    "        spicy_moves = list(analysis[\"possible_moves\"].keys())\n",
    "    ply = random.choice(spicy_moves)\n",
    "    return ply\n"
   ]
  },
  {
   "cell_type": "markdown",
   "metadata": {},
   "source": [
    "## Oversimplified match"
   ]
  },
  {
   "cell_type": "code",
   "execution_count": null,
   "metadata": {},
   "outputs": [],
   "source": [
    "logging.getLogger().setLevel(logging.INFO)\n",
    "\n",
    "strategy = (optimal, pure_random)\n",
    "\n",
    "nim = Nim(5)\n",
    "logging.info(f\"init : {nim}\")\n",
    "player = 0\n",
    "while nim:\n",
    "    ply = strategy[player](nim)\n",
    "    logging.info(f\"ply: player {player} plays {ply}\")\n",
    "    nim.nimming(ply)\n",
    "    logging.info(f\"status: {nim}\")\n",
    "    player = 1 - player\n",
    "logging.info(f\"status: Player {player} won!\")\n"
   ]
  },
  {
   "cell_type": "code",
   "execution_count": 663,
   "metadata": {},
   "outputs": [],
   "source": [
    "def nim_sum(state: Nim):\n",
    "    nim_sum = state.rows[0]\n",
    "    for i in range(1, len(state.rows)):\n",
    "        nim_sum = nim_sum ^ state.rows[i]\n",
    "    return nim_sum    "
   ]
  },
  {
   "cell_type": "code",
   "execution_count": null,
   "metadata": {},
   "outputs": [],
   "source": [
    "def expert(state: Nim):\n",
    "    count = 0\n",
    "    one_count = 0\n",
    "    for rows_value in state.rows:\n",
    "        if (rows_value > 1):\n",
    "            count += 1\n",
    "        if (rows_value == 1):\n",
    "            one_count += 1\n",
    "    \n",
    "    if (count == 1):\n",
    "        row = None\n",
    "        row_size = None\n",
    "        for i in range(len(state.rows)):\n",
    "                if (state.rows[i] > 1):\n",
    "                    row = i\n",
    "                    row_size = state.rows[i]\n",
    "        if (one_count % 2 == 0):\n",
    "            print(\"1\")\n",
    "            return Nimply(row, row_size - 1)\n",
    "        else:\n",
    "            print(\"2\")\n",
    "            return Nimply(row, row_size)\n",
    "            \n",
    "    current_nim_sum = nim_sum(state)\n",
    "    best_row = -1\n",
    "    nimming_value = -1\n",
    "\n",
    "    if current_nim_sum != 0:\n",
    "        for i in range(len(state.rows)):\n",
    "            if (state.rows[i] ^ current_nim_sum) < state.rows[i]:\n",
    "                current_nimming_value = state.rows[i] - (state.rows[i] ^ current_nim_sum)\n",
    "                if state._k is not None and current_nimming_value > state._k:\n",
    "                    continue\n",
    "                if current_nimming_value < 1 or current_nimming_value > state.rows[i]:\n",
    "                    continue\n",
    "                best_row = i\n",
    "                nimming_value = current_nimming_value\n",
    "\n",
    "        if best_row != -1:\n",
    "            print(\"3\")\n",
    "            print(f\"nimming value: {nimming_value}\")\n",
    "            print(f\"k = {state._k}\")\n",
    "            print(f\"left = {state.rows[best_row]}\")\n",
    "            return Nimply(best_row, nimming_value)\n",
    "    \n",
    "    chosen_variable = None\n",
    "    variable_chosen = False\n",
    "    while(not variable_chosen):\n",
    "        variable = np.random.randint(0, len(state.rows))\n",
    "        if (state.rows[variable] > 0):\n",
    "            variable_chosen = True\n",
    "            chosen_variable = variable\n",
    "    print(\"4\")\n",
    "    #print(f\"left: {state.rows[chosen_variable]}\")\n",
    "   #print(np.min([state.rows[chosen_variable], state._k]))\n",
    "    if (state._k == None):\n",
    "        random_value = np.random.randint(1, state.rows[chosen_variable] + 1)\n",
    "    else:\n",
    "        random_value = random_value = np.random.randint(1, np.min([state.rows[chosen_variable], state._k]) + 1)\n",
    "    #print(f\"random: {random_value}\")\n",
    "    return Nimply(variable, random_value) "
   ]
  },
  {
   "cell_type": "code",
   "execution_count": null,
   "metadata": {},
   "outputs": [],
   "source": [
    "def play(state: Nim, strat_one, strat_two):    \n",
    "    #logging.getLogger().setLevel(logging.INFO)\n",
    "\n",
    "    strategy = (strat_one, strat_two)\n",
    "\n",
    "    nim = state\n",
    "\n",
    "    #logging.info(f\"init : {nim}\")\n",
    "    player = 0\n",
    "    while nim:\n",
    "        ply = strategy[player](nim)\n",
    "        print(f\"play: ply: {ply}\")\n",
    "        print(f\"player: {strategy[player].__name__}\")\n",
    "        #logging.info(f\"ply: player {player} plays {ply}\")\n",
    "        nim.nimming(ply)\n",
    "        #logging.info(f\"status: {nim}\")\n",
    "        player = 1 - player\n",
    "        \n",
    "    #logging.info(f\"status: Player {player} won!\")\n",
    "\n",
    "    return 1 if strategy[player] == expert else 0"
   ]
  },
  {
   "cell_type": "code",
   "execution_count": null,
   "metadata": {},
   "outputs": [],
   "source": [
    "strat_one = expert\n",
    "strat_two = pure_random\n",
    "num_of_games = 100\n",
    "start = 5\n",
    "k = 40\n",
    "nims = [play(Nim(start + i), expert, pure_random) for i in range(num_of_games)]"
   ]
  },
  {
   "cell_type": "code",
   "execution_count": null,
   "metadata": {},
   "outputs": [],
   "source": [
    "print(f\"Winrate of expert: {np.sum(nims) / len(nims)} after {num_of_games} games, playing against {strat_two.__name__}. Having rows parameter on the interval of [{start}, {start + num_of_games}] and having k = {k}\")"
   ]
  },
  {
   "cell_type": "code",
   "execution_count": null,
   "metadata": {},
   "outputs": [],
   "source": [
    "class Individual:\n",
    "    def __init__(self, num_rows: int, genome=None) -> None:\n",
    "        \n",
    "        if genome == None:\n",
    "            self.heap_genome = np.array([np.random.random() for _ in range(num_rows)])\n",
    "            self.amount_genome = np.array([np.random.random() for _ in range(num_rows)])\n",
    "        else:\n",
    "            self.heap_genome, self.amount_genome = genome\n",
    "\n",
    "        self.heap_genome = self.normalize(self.heap_genome)\n",
    "        self.amount_genome = self.normalize(self.amount_genome)\n",
    "        self.score = 0\n",
    "        \n",
    "    def mutate(self, genome_num):\n",
    "        genome = np.copy(self.heap_genome) if genome_num == 0 else np.copy(self.amount_genome)\n",
    "        mutating_gene = np.random.randint(0, len(genome))\n",
    "        differential = 0.15\n",
    "        genome[mutating_gene] += np.random.uniform(-differential, differential)\n",
    "        #print(genome[mutating_gene])\n",
    "        genome = self.normalize(genome)\n",
    "        if (genome[mutating_gene] >= 0):\n",
    "            if (genome_num == 0):\n",
    "                self.heap_genome = genome\n",
    "            else:\n",
    "                self.amount_genome = genome\n",
    "\n",
    "    def choose_heap(self, state: Nim):\n",
    "        squared_genome = [gene for gene in self.heap_genome]\n",
    "        counting_sum = self.heap_genome[0]\n",
    "        roulette_wheel = np.zeros(len(self.heap_genome) + 1)\n",
    "        counting_sum = 0\n",
    "       \n",
    "        for i in range(len(self.heap_genome)):\n",
    "            counting_sum += squared_genome[i]\n",
    "            roulette_wheel[i+1] = counting_sum\n",
    "        \n",
    "        heap_number = None\n",
    "        i = 0\n",
    "\n",
    "        while(heap_number == None and i < 100):\n",
    "            i += 1\n",
    "            roll_value = np.random.uniform(0, roulette_wheel[-1])\n",
    "            for i in range(len(roulette_wheel) - 1):\n",
    "                if (roulette_wheel[i] < roll_value and roll_value <= roulette_wheel[i+1] and state.rows[i] != 0):\n",
    "                    heap_number = i\n",
    "                    break\n",
    "        \n",
    "        return heap_number\n",
    "\n",
    "    def choose_amount(self, state: Nim, heap_num: int):\n",
    "        k = 0 if state._k == None else state._k\n",
    "        maximum_value = np.max(state.rows[heap_num], k)\n",
    "        take_amount = np.inf\n",
    "        #print(f\"Max value: {maximum_value}\")\n",
    "        i = 0\n",
    "        while not (take_amount >= 1 and take_amount <= maximum_value):\n",
    "            if (i == 10):\n",
    "                break\n",
    "            i += 1\n",
    "            amount_weight = np.random.normal(self.amount_genome[heap_num], 0.05)\n",
    "            take_amount = np.ceil(amount_weight * maximum_value)\n",
    "            #print(f\"Take amount: {take_amount}\")\n",
    "        return take_amount\n",
    "\n",
    "    def strategy(self, state: Nim):\n",
    "        heap_num = self.choose_heap(state)\n",
    "        take_amount = self.choose_amount(state, heap_num)\n",
    "        return Nimply(int(heap_num), int(take_amount))\n",
    "\n",
    "\n",
    "    def normalize(self, array: np.ndarray):\n",
    "        return array / np.sum(array)\n",
    "\n",
    "    def increase_score(self):\n",
    "        self.score += 1"
   ]
  },
  {
   "cell_type": "code",
   "execution_count": null,
   "metadata": {},
   "outputs": [],
   "source": [
    "class Population:\n",
    "    def __init__(self, nim_problem_size, k = None):\n",
    "        self.population_size = 30\n",
    "        self.tournament_size = 2\n",
    "        self.offspring_size = 30\n",
    "        self.environment = Nim(nim_problem_size, k=k)\n",
    "        self.population = [Individual(nim_problem_size) for _ in range(self.population_size)]\n",
    "\n",
    "        self.first_move_victory = 0\n",
    "    \n",
    "    def play(self, state: Nim, individual_one: Individual, individual_two: Individual) -> Individual:    \n",
    "        #logging.getLogger().setLevel(logging.INFO)\n",
    "\n",
    "        individuals = (individual_one, individual_two)\n",
    "        strategy = (individual_one.strategy, individual_two.strategy)\n",
    "\n",
    "        \n",
    "        #logging.info(f\"init : {nim}\")\n",
    "        player = 0\n",
    "        while state.__bool__():\n",
    "            ply = strategy[player](state)\n",
    "            #print(f\"play: ply: {ply}\")\n",
    "            #print(f\"player: {strategy[player].__name__}\")\n",
    "            #logging.info(f\"ply: player {player} plays {ply}\")\n",
    "            state.nimming(ply)\n",
    "            #logging.info(f\"status: {nim}\")\n",
    "            player = 1 - player\n",
    "            \n",
    "        #logging.info(f\"status: Player {player} won!\")\n",
    "\n",
    "        winner = individuals[player]\n",
    "        if (player == 0):\n",
    "            self.first_move_victory += 1\n",
    "        return winner\n",
    "\n",
    "    def simulate(self):\n",
    "        for i in range(self.population_size):\n",
    "            for j in range(i, self.population_size):\n",
    "                winner = self.play(self.environment, self.population[i], self.population[j])\n",
    "                winner.increase_score()\n",
    "\n",
    "    def fight(self):\n",
    "            i1, i2 = (np.random.randint(0, self.population_size) for _ in range(self.tournament_size))\n",
    "            p1, p2 = self.population[i1], self.population[i2]\n",
    "            winner = self.play(self.environment, p1, p2)\n",
    "            return winner\n",
    "\n",
    "\n",
    "\n",
    "    def cross_over_and_mutate(self, i1: Individual, i2: Individual):\n",
    "        nim_size = len(self.environment._rows)\n",
    "        new_heap_genome = np.zeros(nim_size)\n",
    "        new_amount_genome = np.zeros(nim_size)\n",
    "        for i in range(nim_size):\n",
    "            new_heap_genome[i] = np.average([i1.heap_genome[i], i2.heap_genome[i]])\n",
    "            new_amount_genome[i] = np.average([i1.amount_genome[i], i2.amount_genome[i]])\n",
    "        offspring = Individual(nim_size, (new_heap_genome, new_amount_genome))\n",
    "        genome_to_mutate = random.choice([0, 1])\n",
    "        offspring.mutate(genome_to_mutate)\n",
    "        \n",
    "        return offspring\n",
    "    \n",
    "    def update_population(self):\n",
    "        self.first_move_victory = 0\n",
    "        winners = []\n",
    "        for _ in range(self.offspring_size):\n",
    "            winners.append(self.fight())\n",
    "        \n",
    "        offspring = []\n",
    "        for _ in range(self.offspring_size):\n",
    "            i1, i2 = (np.random.randint(0, self.population_size) for _ in range(self.tournament_size))\n",
    "            p1, p2 = self.population[i1], self.population[i2]\n",
    "            offspring.append(self.cross_over_and_mutate(p1, p2))\n",
    "        \n",
    "        self.population = offspring\n",
    "        \n",
    "\n",
    "    def print_player_stats(self):\n",
    "        print(f\"first move winrate: {self.first_move_victory / self.offspring_size}, second move winrate: {(self.offspring_size - self.first_move_victory) / self.offspring_size}\")\n"
   ]
  },
  {
   "cell_type": "code",
   "execution_count": null,
   "metadata": {},
   "outputs": [],
   "source": [
    "individual = Individual(5)"
   ]
  },
  {
   "cell_type": "code",
   "execution_count": null,
   "metadata": {},
   "outputs": [],
   "source": [
    "state = Nim(5)\n",
    "individual = Individual(5)\n",
    "heap = individual.choose_heap(state)\n",
    "print(individual.strategy(state))"
   ]
  },
  {
   "cell_type": "code",
   "execution_count": null,
   "metadata": {},
   "outputs": [],
   "source": [
    "check = np.zeros(5)"
   ]
  },
  {
   "cell_type": "code",
   "execution_count": null,
   "metadata": {},
   "outputs": [],
   "source": [
    "# n = 100000\n",
    "# for _ in range(n):\n",
    "#     individual = Individual(5)\n",
    "#     check[individual.choose_heap(Nim(5))] += 1\n",
    "\n",
    "# print(check / n)"
   ]
  },
  {
   "cell_type": "code",
   "execution_count": null,
   "metadata": {},
   "outputs": [],
   "source": [
    "state_size = 10\n",
    "state = Nim(state_size)\n",
    "print(state)\n",
    "population_30 = Population(state_size)\n",
    "print(population_30.population[0].heap_genome)\n"
   ]
  },
  {
   "cell_type": "code",
   "execution_count": null,
   "metadata": {},
   "outputs": [],
   "source": [
    "for i in range(10000):\n",
    "    population_30.update_population()"
   ]
  },
  {
   "cell_type": "code",
   "execution_count": null,
   "metadata": {},
   "outputs": [],
   "source": [
    "print(population_30.population[8].heap_genome)\n",
    "print(np.sum(population_30.population[8].heap_genome))"
   ]
  },
  {
   "cell_type": "code",
   "execution_count": null,
   "metadata": {},
   "outputs": [],
   "source": [
    "population_30.simulate()\n",
    "best_individual = None\n",
    "best_score = -1\n",
    "for individual in population_30.population:\n",
    "    if (individual.score > best_score):\n",
    "        best_score = individual.score\n",
    "        best_individual = individual\n",
    "\n",
    "strategy = (best_individual.strategy, pure_random)\n",
    "\n",
    "results = []\n",
    "for i in range(10000):\n",
    "    nim = Nim(10)\n",
    "    #logging.info(f\"init : {nim}\")\n",
    "    player = 0\n",
    "    while nim:\n",
    "        ply = strategy[player](nim)\n",
    "        #logging.info(f\"ply: player {player} plays {ply}\")\n",
    "        nim.nimming(ply)\n",
    "        #logging.info(f\"status: {nim}\")\n",
    "        player = 1 - player\n",
    "    #logging.info(f\"status: Player {player} won!\")\n",
    "    results.append(player)\n",
    "\n",
    "print(f\"GA winrate: {(10000-np.sum(results)) / 10000}\")\n"
   ]
  }
 ],
 "metadata": {
  "kernelspec": {
   "display_name": "Python 3.10.9 ('source': venv)",
   "language": "python",
   "name": "python3"
  },
  "language_info": {
   "codemirror_mode": {
    "name": "ipython",
    "version": 3
   },
   "file_extension": ".py",
   "mimetype": "text/x-python",
   "name": "python",
   "nbconvert_exporter": "python",
   "pygments_lexer": "ipython3",
   "version": "3.10.9"
  },
  "vscode": {
   "interpreter": {
    "hash": "1ce67d05b6db707c8280e9d854cf697c13c17f882a776097e3ef0fa775dfac8c"
   }
  }
 },
 "nbformat": 4,
 "nbformat_minor": 2
}
