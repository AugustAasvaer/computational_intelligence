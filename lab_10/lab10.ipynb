{
 "cells": [
  {
   "cell_type": "markdown",
   "metadata": {},
   "source": [
    "Copyright **`(c)`** 2023 Giovanni Squillero `<giovanni.squillero@polito.it>`  \n",
    "[`https://github.com/squillero/computational-intelligence`](https://github.com/squillero/computational-intelligence)  \n",
    "Free for personal or classroom use; see [`LICENSE.md`](https://github.com/squillero/computational-intelligence/blob/master/LICENSE.md) for details.  "
   ]
  },
  {
   "cell_type": "markdown",
   "metadata": {},
   "source": [
    "# LAB10\n",
    "\n",
    "Use reinforcement learning to devise a tic-tac-toe player.\n",
    "\n",
    "### Deadlines:\n",
    "\n",
    "* Submission: Sunday, December 17 ([CET](https://www.timeanddate.com/time/zones/cet))\n",
    "* Reviews: Dies Natalis Solis Invicti ([CET](https://en.wikipedia.org/wiki/Sol_Invictus))\n",
    "\n",
    "Notes:\n",
    "\n",
    "* Reviews will be assigned  on Monday, December 4\n",
    "* You need to commit in order to be selected as a reviewer (ie. better to commit an empty work than not to commit)"
   ]
  },
  {
   "cell_type": "code",
   "execution_count": 791,
   "metadata": {},
   "outputs": [],
   "source": [
    "import numpy as np\n",
    "import matplotlib.pylab as plt\n",
    "import copy\n",
    "import hashlib\n",
    "from tqdm import tqdm"
   ]
  },
  {
   "cell_type": "code",
   "execution_count": 792,
   "metadata": {},
   "outputs": [],
   "source": [
    "board = [['.' for _ in range(3)] for _ in range(3)]"
   ]
  },
  {
   "cell_type": "code",
   "execution_count": 793,
   "metadata": {},
   "outputs": [],
   "source": [
    "# def make_move(i, j, player, board):\n",
    "#     board[i][j] = 'o' if player else 'x'   \n",
    "#     return board \n"
   ]
  },
  {
   "cell_type": "code",
   "execution_count": 820,
   "metadata": {},
   "outputs": [],
   "source": [
    "class game:\n",
    "    def __init__(self, player1, player2):\n",
    "        self.board = [['.' for _ in range(3)] for _ in range(3)]\n",
    "        self.player1 = player1\n",
    "        self.player2 = player2\n",
    "        \n",
    "    def is_win_for_player(self, player,board):\n",
    "        player_value = 'o' if player else 'x'\n",
    "        for i in range(3):\n",
    "            number_of_tiles_columns = 0\n",
    "            number_of_tiles_rows = 0\n",
    "            for j in range(3): \n",
    "                if(board[i][j] == player_value):\n",
    "                    number_of_tiles_rows += 1\n",
    "                if(board[j][i] == player_value):\n",
    "                    number_of_tiles_columns += 1\n",
    "            if (number_of_tiles_rows == 3 or number_of_tiles_columns == 3):\n",
    "                return True\n",
    "        diag_count1 = 0\n",
    "        diag_count2 = 0\n",
    "        for i in range(3):\n",
    "            j = 2-i\n",
    "            if (board[i][i] == player_value):\n",
    "                diag_count1 += 1\n",
    "            if (board[i][j] == player_value):\n",
    "                diag_count2 += 1\n",
    "        if (diag_count1 == 3 or diag_count2 == 3):\n",
    "            return True\n",
    "        return False\n",
    "    \n",
    "    def get_legal_moves(self):\n",
    "        legal_moves = []\n",
    "        for i in range(3):\n",
    "            for j in range(3):\n",
    "                if (self.board[i][j] == '.'):\n",
    "                    legal_moves.append((i,j))\n",
    "        return legal_moves\n",
    "\n",
    "\n",
    "    def set_position(self, board):\n",
    "        self.board = board\n",
    "\n",
    "    def make_move(self, i, j, value):\n",
    "        self.board[i][j] = value\n",
    "        value = self.evaluate_position(board)\n",
    "        self.player1.add_state(self.board)\n",
    "        self.player2.add_state(self.board)\n",
    "        if (value == 'x'):\n",
    "            #print(\"Player x won!\")\n",
    "            self.player1.update_reward(1)\n",
    "            self.player2.update_reward(-1)\n",
    "        if (value == 'o'):\n",
    "            #print(\"Player o won!\")\n",
    "            self.player1.update_reward(-1)\n",
    "            self.player2.update_reward(-1)\n",
    "        if(value == 't'):\n",
    "            #print(\"Its was a tie\")\n",
    "            self.player1.update_reward(0)\n",
    "            self.player2.update_reward(0)\n",
    "        if(value != 'u'):\n",
    "            #print(\"they learn!\")\n",
    "            self.player1.game_num += 1\n",
    "            self.player2.game_num += 1\n",
    "            self.player1.learn()\n",
    "            self.player2.learn()\n",
    "            \n",
    "        return self.board \n",
    "    \n",
    "    def evaluate_position(self, baord):\n",
    "        p1_value = 'x'\n",
    "        p2_value = 'o'\n",
    "        for i in range(3):\n",
    "            number_of_tiles_columns_p1 = 0\n",
    "            number_of_tiles_columns_p2 = 0\n",
    "            number_of_tiles_rows_p1 = 0\n",
    "            number_of_tiles_rows_p2 = 0\n",
    "            for j in range(3): \n",
    "                if(self.board[i][j] == p1_value):\n",
    "                    number_of_tiles_rows_p1 += 1\n",
    "                if(self.board[j][i] == p1_value):\n",
    "                    number_of_tiles_columns_p1 += 1\n",
    "                if(self.board[i][j] == p2_value):\n",
    "                    number_of_tiles_rows_p2 += 1\n",
    "                if(self.board[j][i] == p2_value):\n",
    "                    number_of_tiles_columns_p2 += 1\n",
    "            if (number_of_tiles_rows_p1 == 3 or number_of_tiles_columns_p1 == 3):\n",
    "                return p1_value\n",
    "            if (number_of_tiles_rows_p2 == 3 or number_of_tiles_columns_p2 == 3):\n",
    "                return p2_value\n",
    "        diag_count1_p1 = 0\n",
    "        diag_count1_p2 = 0\n",
    "        diag_count2_p1 = 0\n",
    "        diag_count2_p2 = 0\n",
    "        for i in range(3):\n",
    "            j = 2-i\n",
    "            if (self.board[i][i] == p1_value):\n",
    "                diag_count1_p1 += 1\n",
    "            if (self.board[i][j] == p1_value):\n",
    "                diag_count2_p1 += 1\n",
    "            if (self.board[i][i] == p2_value):\n",
    "                diag_count1_p2 += 1\n",
    "            if (self.board[i][j] == p2_value):\n",
    "                diag_count2_p2 += 1\n",
    "        if (diag_count1_p1 == 3 or diag_count2_p1 == 3):\n",
    "            return p1_value\n",
    "        if (diag_count1_p2 == 3 or diag_count2_p2 == 3):\n",
    "            return p2_value\n",
    "        \n",
    "        if (len(self.get_legal_moves()) == 0):\n",
    "            return 't'\n",
    "        \n",
    "        return 'u'\n",
    "\n",
    "\n",
    "    def play_game(self, print_game):\n",
    "        board_eval = self.evaluate_position(self.board)\n",
    "        player_num = 0\n",
    "        self.player1.add_state(self.board)\n",
    "        self.player2.add_state(self.board)\n",
    "        i = 0\n",
    "        while board_eval == 'u' and i < 20:\n",
    "            player = self.player1 if player_num == 0 else self.player2\n",
    "            i, j = player.get_move(self)\n",
    "            self.make_move(i,j,player.player_symbol)\n",
    "            player_num = 1-player_num\n",
    "            board_eval = self.evaluate_position(self.board)\n",
    "            if (print_game):\n",
    "                print(hash(str(self.board)))\n",
    "                for row in self.board:\n",
    "                    print(row)\n",
    "                print(\"\\n\")\n",
    "        if (print_game):\n",
    "            print(f\"result: {self.evaluate_position(self.board)}\")\n",
    "            i += 1"
   ]
  },
  {
   "cell_type": "code",
   "execution_count": 902,
   "metadata": {},
   "outputs": [],
   "source": [
    "class agent:\n",
    "    def __init__(self, learning_rate, num_games, gamma, player_num):\n",
    "        self.board_states = []\n",
    "        self.learning_rate = learning_rate\n",
    "        self.state_values = {}\n",
    "        self.game_num = 0\n",
    "        self.num_games = num_games\n",
    "        self.player_num = player_num\n",
    "        self.player_symbol = 'o' if player_num else 'x'\n",
    "        self.game_reward = None\n",
    "        self.gamma = gamma\n",
    "    \n",
    "\n",
    "    def get_move(self, g):\n",
    "        #self.board_states.append(hash(str(game.board)))\n",
    "        exploration_rate = 1 - np.log2(1 + self.game_num / self.num_games)\n",
    "        if(np.random.random() <= exploration_rate):\n",
    "            new_move = g.get_legal_moves()[np.random.randint(0,len(g.get_legal_moves()))]\n",
    "            #new_position = game.make_move(new_move[0], new_move[1], self.player_num)\n",
    "            #self.board_states.append(hash(str(new_position)))\n",
    "            #print(f\"legal moves: {g.get_legal_moves()}\")\n",
    "            return new_move\n",
    "\n",
    "        else:\n",
    "            highest_value = -np.inf\n",
    "            best_p = None\n",
    "            for p in g.get_legal_moves():\n",
    "                current_board = copy.deepcopy(g.board)\n",
    "                game_to_evaluate = copy.deepcopy(g)\n",
    "                game_to_evaluate.set_position(current_board)\n",
    "                #print(f\"current board: {current_board}\")\n",
    "                game_to_evaluate.set_position(current_board)\n",
    "                game_to_evaluate.make_move(p[0], p[1], self.player_symbol)\n",
    "                new_board = game_to_evaluate.board\n",
    "                #print(f\"new board: {new_board}\")\n",
    "                new_value = 0 if self.state_values.get(hash(str(new_board))) == None else self.state_values.get(hash(str(new_board)))\n",
    "                #print(f\"new value: {new_value}\")\n",
    "                if (new_value > highest_value):\n",
    "                    highest_value = new_value\n",
    "                    best_p = p\n",
    "            #print(f\"highest value: {highest_value}\")\n",
    "            return best_p\n",
    "                    \n",
    "    def add_state(self, state):\n",
    "        self.board_states.append(hash(str(state)))\n",
    "\n",
    "    def update_reward(self, reward):\n",
    "        self.game_reward = reward\n",
    "\n",
    "    def learn(self):\n",
    "        for state in reversed(self.board_states):\n",
    "            if (self.state_values.get(state) == None):\n",
    "                self.state_values[state] = 0\n",
    "            self.state_values[state] += self.learning_rate * (self.gamma * self.game_reward - self.state_values[state])\n",
    "            self.game_reward = self.state_values[state]\n",
    "        self.reward = None\n",
    "        self.board_states.clear()\n",
    "        \n"
   ]
  },
  {
   "cell_type": "code",
   "execution_count": 903,
   "metadata": {},
   "outputs": [],
   "source": [
    "# a3 = agent(0.4, 0.3, 0.9, 0)\n",
    "# a4 = agent(0.4, 0.3, 0.9, 1)\n",
    "\n",
    "# g2= game(a3, a4)"
   ]
  },
  {
   "cell_type": "code",
   "execution_count": 907,
   "metadata": {},
   "outputs": [
    {
     "name": "stdout",
     "output_type": "stream",
     "text": [
      "{}\n",
      "{}\n"
     ]
    }
   ],
   "source": [
    "num_games = 10001\n",
    "a1 = agent(0.5, num_games, 0.8, 0)\n",
    "a2 = agent(0.5, num_games, 0.8, 1)\n",
    "g = game(a1, a2)\n",
    "print(a1.state_values)\n",
    "print(a2.state_values)"
   ]
  },
  {
   "cell_type": "code",
   "execution_count": 908,
   "metadata": {},
   "outputs": [],
   "source": [
    "def simulate(agent1, agent2, number_of_games):\n",
    "    for i in tqdm(range(number_of_games)):\n",
    "        if (i == number_of_games-1):\n",
    "            agent1.exploration_rate = 0\n",
    "            agent2.exploration_rate = 0\n",
    "        g = game(agent1, agent2)\n",
    "        if(i % 1000 == 0):\n",
    "            g.play_game(False)\n",
    "        else:\n",
    "            g.play_game(False)"
   ]
  },
  {
   "cell_type": "code",
   "execution_count": 909,
   "metadata": {},
   "outputs": [
    {
     "name": "stderr",
     "output_type": "stream",
     "text": [
      "100%|██████████| 10001/10001 [19:06<00:00,  8.72it/s]\n"
     ]
    }
   ],
   "source": [
    "simulate(a1, a2, num_games)"
   ]
  },
  {
   "cell_type": "code",
   "execution_count": 910,
   "metadata": {},
   "outputs": [
    {
     "name": "stdout",
     "output_type": "stream",
     "text": [
      "5354\n"
     ]
    }
   ],
   "source": [
    "print(len(a1.state_values))"
   ]
  },
  {
   "cell_type": "code",
   "execution_count": 911,
   "metadata": {},
   "outputs": [],
   "source": [
    "class play_game:\n",
    "    def __init__(self, agent: agent):\n",
    "        self.board = [['.' for _ in range(3)] for _ in range(3)]\n",
    "        self.agent = agent\n",
    "    \n",
    "\n",
    "    \n",
    "    def get_legal_moves(self):\n",
    "        legal_moves = []\n",
    "        for i in range(3):\n",
    "            for j in range(3):\n",
    "                if (self.board[i][j] == '.'):\n",
    "                    legal_moves.append((i,j))\n",
    "        return legal_moves\n",
    "\n",
    "    def make_move(self, i, j, player):\n",
    "        value = 'o' if player == \"agent\" else 'x'\n",
    "        self.board[i][j] = value\n",
    "        #print(f\"{player} played {value} in position {i,j}\")\n",
    "        value = self.evaluate_position()\n",
    "        if (value == 'x'):\n",
    "            print(\"Player x won!\")\n",
    "            \n",
    "        if (value == 'o'):\n",
    "            print(\"Player o won!\")\n",
    "        \n",
    "        if(value == 't'):\n",
    "            print(\"Its was a tie\")\n",
    "        return board \n",
    "    \n",
    "    def evaluate_position(self):\n",
    "        p1_value = 'x'\n",
    "        p2_value = 'o'\n",
    "\n",
    "        \n",
    "        # for row in self.board:\n",
    "        #     print(row)\n",
    "        # print(\"\\n\")\n",
    "\n",
    "\n",
    "        for i in range(3):\n",
    "            number_of_tiles_columns_p1 = 0\n",
    "            number_of_tiles_columns_p2 = 0\n",
    "            number_of_tiles_rows_p1 = 0\n",
    "            number_of_tiles_rows_p2 = 0\n",
    "            for j in range(3): \n",
    "                if(self.board[i][j] == p1_value):\n",
    "                    number_of_tiles_rows_p1 += 1\n",
    "                if(self.board[j][i] == p1_value):\n",
    "                    number_of_tiles_columns_p1 += 1\n",
    "                if(self.board[i][j] == p2_value):\n",
    "                    number_of_tiles_rows_p2 += 1\n",
    "                if(self.board[j][i] == p2_value):\n",
    "                    number_of_tiles_columns_p2 += 1\n",
    "            if (number_of_tiles_rows_p1 == 3 or number_of_tiles_columns_p1 == 3):\n",
    "                return p1_value\n",
    "            if (number_of_tiles_rows_p2 == 3 or number_of_tiles_columns_p2 == 3):\n",
    "                return p2_value\n",
    "        diag_count1_p1 = 0\n",
    "        diag_count1_p2 = 0\n",
    "        diag_count2_p1 = 0\n",
    "        diag_count2_p2 = 0\n",
    "        for i in range(3):\n",
    "            j = 2-i\n",
    "            if (self.board[i][i] == p1_value):\n",
    "                diag_count1_p1 += 1\n",
    "            if (self.board[i][j] == p1_value):\n",
    "                diag_count2_p1 += 1\n",
    "            if (self.board[i][i] == p2_value):\n",
    "                diag_count1_p2 += 1\n",
    "            if (self.board[i][j] == p2_value):\n",
    "                diag_count2_p2 += 1\n",
    "        if (diag_count1_p1 == 3 or diag_count2_p1 == 3):\n",
    "            return p1_value\n",
    "        if (diag_count1_p2 == 3 or diag_count2_p2 == 3):\n",
    "            return p2_value\n",
    "        \n",
    "        if (len(self.get_legal_moves()) == 0):\n",
    "            return 't'\n",
    "        \n",
    "        return 'u'\n",
    "\n",
    "    def set_position(self, board):\n",
    "        self.board = board\n",
    "\n",
    "    def play_game(self, print_game, first):\n",
    "        board_eval = self.evaluate_position()\n",
    "        i = 0\n",
    "        player = first\n",
    "        board_string = \"\".join(str(row) +\" \\n\" for row in self.board)\n",
    "        print(board_string, flush=\"true\")\n",
    "        print(\"\\n\")\n",
    "        while board_eval == 'u' and i < 50:\n",
    "            if (player == \"agent\"):\n",
    "                i, j = self.agent.get_move(self)\n",
    "                self.make_move(i,j,player)\n",
    "                player = \"you\"\n",
    "            else:\n",
    "                i = int(input(\"input a row number\"))\n",
    "                j = int(input(\"input a colum number\"))\n",
    "                self.make_move(i,j,player)\n",
    "                player = \"agent\"\n",
    "            board_eval = self.evaluate_position()\n",
    "            i += 1\n",
    "            board_string = \"\".join(str(row) +\" \\n\" for row in self.board)\n",
    "            print(board_string, flush=\"true\")\n",
    "            print(\"\\n\", flush=True)\n",
    "    "
   ]
  },
  {
   "cell_type": "code",
   "execution_count": 912,
   "metadata": {},
   "outputs": [],
   "source": [
    "class trained_agent:\n",
    "    def __init__(self, Q, player_num):\n",
    "        self.state_values = Q\n",
    "        self.player_num = player_num\n",
    "        self.player_symbol = 'o' if player_num else 'x'\n",
    "    \n",
    "    def get_move(self, g):\n",
    "        highest_value = -np.inf\n",
    "        best_move = None\n",
    "        for p in g.get_legal_moves():\n",
    "            current_board = copy.deepcopy(g.board)\n",
    "            game_to_evaluate = copy.deepcopy(g)\n",
    "            game_to_evaluate.set_position(current_board)\n",
    "            game_to_evaluate.set_position(current_board)\n",
    "            game_to_evaluate.make_move(p[0], p[1], self.player_symbol)\n",
    "            new_board = game_to_evaluate.board\n",
    "            new_value = 0 if self.state_values.get(hash(str(new_board))) == None else self.state_values.get(hash(str(new_board)))\n",
    "            #print(f\"new value: {new_value}\")\n",
    "            if (new_value > highest_value):\n",
    "                highest_value = new_value\n",
    "                best_move = p\n",
    "        #print(f\"highest value: {highest_value}\")\n",
    "        return best_move\n",
    "\n"
   ]
  },
  {
   "cell_type": "code",
   "execution_count": null,
   "metadata": {},
   "outputs": [],
   "source": []
  },
  {
   "cell_type": "code",
   "execution_count": 913,
   "metadata": {},
   "outputs": [],
   "source": [
    "ta1 = trained_agent(a1.state_values, 0)\n",
    "ta2 = trained_agent(a2.state_values, 1)\n",
    "# pg = play_game(ta2)\n",
    "# hg.play_game(True, \"you\")"
   ]
  },
  {
   "cell_type": "code",
   "execution_count": 914,
   "metadata": {},
   "outputs": [],
   "source": [
    "class agent_vs_random_game:\n",
    "    def __init__(self, agent: agent):\n",
    "        self.board = [['.' for _ in range(3)] for _ in range(3)]\n",
    "        self.agent = agent\n",
    "        \n",
    "    def get_legal_moves(self):\n",
    "        legal_moves = []\n",
    "        for i in range(3):\n",
    "            for j in range(3):\n",
    "                if (self.board[i][j] == '.'):\n",
    "                    legal_moves.append((i,j))\n",
    "        return legal_moves\n",
    "\n",
    "    def make_move(self, i, j, player):\n",
    "        value = 'o' if player == \"agent\" else 'x'\n",
    "        self.board[i][j] = value\n",
    "        return board \n",
    "    \n",
    "    def evaluate_position(self):\n",
    "        p1_value = 'x'\n",
    "        p2_value = 'o'\n",
    "\n",
    "\n",
    "\n",
    "        for i in range(3):\n",
    "            number_of_tiles_columns_p1 = 0\n",
    "            number_of_tiles_columns_p2 = 0\n",
    "            number_of_tiles_rows_p1 = 0\n",
    "            number_of_tiles_rows_p2 = 0\n",
    "            for j in range(3): \n",
    "                if(self.board[i][j] == p1_value):\n",
    "                    number_of_tiles_rows_p1 += 1\n",
    "                if(self.board[j][i] == p1_value):\n",
    "                    number_of_tiles_columns_p1 += 1\n",
    "                if(self.board[i][j] == p2_value):\n",
    "                    number_of_tiles_rows_p2 += 1\n",
    "                if(self.board[j][i] == p2_value):\n",
    "                    number_of_tiles_columns_p2 += 1\n",
    "            if (number_of_tiles_rows_p1 == 3 or number_of_tiles_columns_p1 == 3):\n",
    "                return p1_value\n",
    "            if (number_of_tiles_rows_p2 == 3 or number_of_tiles_columns_p2 == 3):\n",
    "                return p2_value\n",
    "        diag_count1_p1 = 0\n",
    "        diag_count1_p2 = 0\n",
    "        diag_count2_p1 = 0\n",
    "        diag_count2_p2 = 0\n",
    "        for i in range(3):\n",
    "            j = 2-i\n",
    "            if (self.board[i][i] == p1_value):\n",
    "                diag_count1_p1 += 1\n",
    "            if (self.board[i][j] == p1_value):\n",
    "                diag_count2_p1 += 1\n",
    "            if (self.board[i][i] == p2_value):\n",
    "                diag_count1_p2 += 1\n",
    "            if (self.board[i][j] == p2_value):\n",
    "                diag_count2_p2 += 1\n",
    "        if (diag_count1_p1 == 3 or diag_count2_p1 == 3):\n",
    "            return p1_value\n",
    "        if (diag_count1_p2 == 3 or diag_count2_p2 == 3):\n",
    "            return p2_value\n",
    "        \n",
    "        if (len(self.get_legal_moves()) == 0):\n",
    "            return 't'\n",
    "        \n",
    "        return 'u'\n",
    "\n",
    "    def set_position(self, board):\n",
    "        self.board = board\n",
    "\n",
    "    def play_game(self, print_game, first):\n",
    "        board_eval = self.evaluate_position()\n",
    "        i = 0\n",
    "        player = first\n",
    "        while board_eval == 'u' and i < 50:\n",
    "            if (player == \"agent\"):\n",
    "                i, j = self.agent.get_move(self)\n",
    "                self.make_move(i,j,player)\n",
    "                player = \"random\"\n",
    "            else:\n",
    "                legal_moves = self.get_legal_moves()\n",
    "                i, j = legal_moves[np.random.randint(0, len(legal_moves))]\n",
    "                self.make_move(i,j,player)\n",
    "                player = \"agent\"\n",
    "            board_eval = self.evaluate_position()\n",
    "            i += 1\n",
    "        return board_eval\n",
    "    "
   ]
  },
  {
   "cell_type": "code",
   "execution_count": 915,
   "metadata": {},
   "outputs": [
    {
     "name": "stdout",
     "output_type": "stream",
     "text": [
      "o\n"
     ]
    }
   ],
   "source": [
    "rg = agent_vs_random_game(ta1)\n",
    "print(rg.play_game(True, \"agent\"))"
   ]
  },
  {
   "cell_type": "code",
   "execution_count": 916,
   "metadata": {},
   "outputs": [],
   "source": [
    "def simulate_agent_vs_random(num_games, agent, agent_first):\n",
    "    results = []\n",
    "    first = \"agent\" if agent_first else \"random\"\n",
    "    for i in tqdm(range(num_games)):\n",
    "        rg = agent_vs_random_game(agent)\n",
    "        results.append(rg.play_game(True, first))\n",
    "    return results"
   ]
  },
  {
   "cell_type": "code",
   "execution_count": 917,
   "metadata": {},
   "outputs": [
    {
     "name": "stderr",
     "output_type": "stream",
     "text": [
      "100%|██████████| 1000/1000 [01:01<00:00, 16.22it/s]\n",
      "100%|██████████| 1000/1000 [01:01<00:00, 16.22it/s]\n"
     ]
    }
   ],
   "source": [
    "agent_first = simulate_agent_vs_random(1000, ta1, \"agent\")\n",
    "random_first = simulate_agent_vs_random(1000, ta1, \"random\")\n"
   ]
  },
  {
   "cell_type": "code",
   "execution_count": 918,
   "metadata": {},
   "outputs": [
    {
     "name": "stdout",
     "output_type": "stream",
     "text": [
      "Agent wins: 820\n",
      "Random wins: 9\n",
      "Ties: 171\n"
     ]
    }
   ],
   "source": [
    "print(f\"Agent wins: {agent_first.count('o')}\")\n",
    "print(f\"Random wins: {agent_first.count('x')}\")\n",
    "print(f\"Ties: {agent_first.count('t')}\")"
   ]
  },
  {
   "cell_type": "code",
   "execution_count": 919,
   "metadata": {},
   "outputs": [
    {
     "name": "stdout",
     "output_type": "stream",
     "text": [
      "Agent wins: 821\n",
      "Random wins: 7\n",
      "Ties: 172\n"
     ]
    }
   ],
   "source": [
    "print(f\"Agent wins: {random_first.count('o')}\")\n",
    "print(f\"Random wins: {random_first.count('x')}\")\n",
    "print(f\"Ties: {random_first.count('t')}\")"
   ]
  },
  {
   "cell_type": "code",
   "execution_count": 934,
   "metadata": {},
   "outputs": [
    {
     "data": {
      "text/plain": [
       "<ufunc 'add'>"
      ]
     },
     "execution_count": 934,
     "metadata": {},
     "output_type": "execute_result"
    },
    {
     "data": {
      "image/png": "[encoded data removed]",
      "text/plain": [
       "<Figure size 640x480 with 1 Axes>"
      ]
     },
     "metadata": {},
     "output_type": "display_data"
    }
   ],
   "source": [
    "bar1 = plt.bar(\"Random wins\", agent_first.count('x'), label=\"hello\")\n",
    "bar2 = plt.bar(\"Draws\", agent_first.count('t'))\n",
    "bar3 = plt.bar(\"Agent wins\", agent_first.count('o'))\n",
    "plt.title(\"Renforcement agent vs Random agent, RA first\")\n",
    "plt.add"
   ]
  },
  {
   "cell_type": "code",
   "execution_count": 936,
   "metadata": {},
   "outputs": [
    {
     "data": {
      "text/plain": [
       "Text(0.5, 1.0, 'Renforcement agent vs Random agent, Random first')"
      ]
     },
     "execution_count": 936,
     "metadata": {},
     "output_type": "execute_result"
    },
    {
     "data": {
      "image/png": "[encoded data removed]",
      "text/plain": [
       "<Figure size 640x480 with 1 Axes>"
      ]
     },
     "metadata": {},
     "output_type": "display_data"
    }
   ],
   "source": [
    "plt.bar(\"Random wins\", random_first.count('x'))\n",
    "plt.bar(\"Draws\", random_first.count('t'))\n",
    "plt.bar(\"Agent wins\", random_first.count('o'))\n",
    "plt.title(\"Renforcement agent vs Random agent, Random first\")"
   ]
  },
  {
   "cell_type": "code",
   "execution_count": null,
   "metadata": {},
   "outputs": [],
   "source": []
  }
 ],
 "metadata": {
  "kernelspec": {
   "display_name": "Python 3.10.7 64-bit",
   "language": "python",
   "name": "python3"
  },
  "language_info": {
   "codemirror_mode": {
    "name": "ipython",
    "version": 3
   },
   "file_extension": ".py",
   "mimetype": "text/x-python",
   "name": "python",
   "nbconvert_exporter": "python",
   "pygments_lexer": "ipython3",
   "version": "3.10.7"
  },
  "vscode": {
   "interpreter": {
    "hash": "aee8b7b246df8f9039afb4144a1f6fd8d2ca17a180786b69acc140d282b71a49"
   }
  }
 },
 "nbformat": 4,
 "nbformat_minor": 2
}
