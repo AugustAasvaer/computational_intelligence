{
 "cells": [
  {
   "cell_type": "code",
   "execution_count": null,
   "metadata": {},
   "outputs": [],
   "source": [
    "import random\n",
    "from game import Game, Player, Move\n",
    "import numpy as np\n",
    "from copy import copy, deepcopy\n",
    "from hashlib import sha1\n",
    "from tqdm import tqdm\n",
    "import matplotlib.pyplot as plt\n",
    "import json\n",
    "import concurrent.futures\n",
    "class Training_game(Game):\n",
    "    def __init__(self) -> None:\n",
    "        super().__init__()\n",
    "    \n",
    "    def move(self, move, id):\n",
    "        return super()._Game__move(move[0], move[1], id)\n",
    "\n",
    "    def set_board(self, board):\n",
    "        self._board = board\n",
    "\n",
    "    def change_board(self, move, player_id):\n",
    "        current_board = copy(self._board)\n",
    "        success = self.move(move, player_id)\n",
    "        if success:\n",
    "            return self.get_board(), current_board\n",
    "        else:\n",
    "            return None \n",
    "\n",
    "    def play(self, player1: Player, player2: Player) -> int:\n",
    "            '''Play the game. Returns the winning player'''\n",
    "            #print(f\"player1 type {type(player1)}\")\n",
    "            #print(f\"player1 type {type(player2)}\")\n",
    "            players = [player1, player2]\n",
    "            winner = -1\n",
    "            while winner < 0:\n",
    "                self.current_player_idx += 1\n",
    "                self.current_player_idx %= len(players)\n",
    "                ok = False\n",
    "                while not ok:\n",
    "                    from_pos, slide = players[self.current_player_idx].make_move(\n",
    "                        self)\n",
    "                    ok = self.move([from_pos, slide], self.current_player_idx)\n",
    "                winner = self.check_winner()\n",
    "            player1.states.append(self._board)\n",
    "            return winner\n",
    "\n",
    "\n",
    "class RandomPlayer(Player):\n",
    "    def __init__(self) -> None:\n",
    "        super().__init__()\n",
    "\n",
    "    def make_move(self, game: 'Game') -> tuple[tuple[int, int], Move]:\n",
    "        from_pos = (random.randint(0, 4), random.randint(0, 4))\n",
    "        move = random.choice([Move.TOP, Move.BOTTOM, Move.LEFT, Move.RIGHT])\n",
    "        return from_pos, move\n",
    "\n",
    "\n",
    "class MyPlayer(Player):\n",
    "    def __init__(self, player_id, lr, gamma, num_training_games, exploit) -> None:\n",
    "        super().__init__()\n",
    "        self.player_value = player_id\n",
    "        self.lr = lr\n",
    "        self.gamma = gamma\n",
    "        self.exploit = exploit\n",
    "        self.states = []\n",
    "        self.Q = {}\n",
    "        self.games_played = 0\n",
    "        self.num_training_games = num_training_games\n",
    "\n",
    "\n",
    "    def make_move(self, game: 'Game') -> tuple[tuple[int, int], Move]:\n",
    "        current_board = np.copy(game.get_board())\n",
    "        self.states.append(current_board)\n",
    "        e = np.exp(-1.5 * (self.games_played / self.num_training_games))#1 - np.log(1 + (self.games_played / self.num_training_games))\n",
    "        epsilon = 0 if (self.games_played / self.num_training_games >= 1) or self.exploit else e\n",
    "        #print(f\"game {self.games_played} : {epsilon}\")\n",
    "        if (np.random.rand() < epsilon):\n",
    "           # print(\"enters\")\n",
    "            #current_board = deepcopy(game.get_board())\n",
    "            moves = self.get_legal_moves(current_board)\n",
    "            index = random.randint(0, len(moves) - 1)\n",
    "            return moves[index]\n",
    "\n",
    "        else:\n",
    "            best_move = None\n",
    "            highest_eval = -np.inf\n",
    "            moves = self.get_legal_moves(game.get_board())\n",
    "            for move in moves:\n",
    "                current_board = np.copy(game.get_board())\n",
    "                new_game = Training_game()\n",
    "                new_game.set_board(current_board)\n",
    "                eval_weight = 1 if self.player_value == 0 else -1\n",
    "                #print(f\"move: {move}\")\n",
    "                #print(f\"prev board: \\n{new_game.get_board()}\")\n",
    "                new_board, prev_pos = new_game.change_board(move, self.player_value)\n",
    "                #print(f\"new board: \\n{new_game.get_board()}\")\n",
    "                hashed_board_state = self.hash_board(new_board)\n",
    "                table_result = self.Q.get(hashed_board_state)\n",
    "                eval = 0 if table_result == None else table_result\n",
    "                eval = eval * eval_weight\n",
    "                if (eval > highest_eval):\n",
    "                    highest_eval = eval\n",
    "                    best_move = move\n",
    "            #print(current_board)\n",
    "            #print(best_move)\n",
    "            return best_move\n",
    "                    \n",
    "                \n",
    "    def train(self, num_games, opponent=None):\n",
    "        r = opponent if opponent != None else RandomPlayer()\n",
    "        #print(opponent)\n",
    "        for _ in tqdm(range(num_games)):\n",
    "            t = Training_game()\n",
    "            \n",
    "            if (self.player_value):\n",
    "                result = t.play(r, self)\n",
    "            else:\n",
    "                result = t.play(self,r)\n",
    "            reward = 1 if self.player_value == result else -1\n",
    "\n",
    "            for state in reversed(self.states):\n",
    "                state_to_eval = state\n",
    "                hashed_state = self.hash_board(state_to_eval)\n",
    "                if (self.Q.get(hashed_state) == None):\n",
    "                        self.Q[hashed_state] = 0\n",
    "                self.Q[hashed_state] += self.lr * (self.gamma * reward - self.Q[hashed_state])\n",
    "                for _ in range(4):\n",
    "                    if (self.Q.get(hashed_state) == None):\n",
    "                        self.Q[hashed_state] = 0\n",
    "                    self.Q[hashed_state] += self.lr * (self.gamma * reward - self.Q[hashed_state])\n",
    "                    #print(f\"state : \\n{state}\")\n",
    "                    #print(f\"reward {self.Q[hashed_state]}\")\n",
    "                    state_to_eval = np.rot90(state_to_eval)\n",
    "                reward = self.Q[hashed_state] \n",
    "            self.states.clear()\n",
    "            self.games_played += 1\n",
    "    \n",
    "            \n",
    "\n",
    "\n",
    "    \n",
    "    def get_legal_moves(self, board: np.ndarray):\n",
    "        moves = list()\n",
    "        rows, cols = board.shape\n",
    "        for i in range(rows):\n",
    "            if (board[i, 0] == -1):\n",
    "                #print(\"match 1\")\n",
    "                pickable_piece = (0,i)\n",
    "                if (i == 0):\n",
    "                    insertions = (Move.BOTTOM, Move.RIGHT)\n",
    "                elif (i == 4):\n",
    "                    insertions = (Move.TOP, Move.RIGHT)\n",
    "                else:\n",
    "                    insertions = (Move.TOP, Move.BOTTOM, Move.RIGHT)\n",
    "                \n",
    "                for insertion in insertions:\n",
    "                    #print((pickable_piece, insertion))\n",
    "                    moves.append((pickable_piece, insertion))\n",
    "            \n",
    "            if (board[i, 4] == -1):\n",
    "                #print(\"match 2\")\n",
    "                pickable_piece = (4,i)\n",
    "                if (i == 0):\n",
    "                    insertions = (Move.BOTTOM, Move.LEFT)\n",
    "                elif (i == 4):\n",
    "                    insertions = [Move.TOP, Move.LEFT]\n",
    "                else:\n",
    "                    insertions = (Move.TOP, Move.BOTTOM, Move.LEFT)\n",
    "                for insertion in insertions:\n",
    "                    #print((pickable_piece, insertion))\n",
    "                    moves.append((pickable_piece, insertion))\n",
    "        for j in range(cols):\n",
    "            if(board[0, j] == self.player_value or board[0, j] == -1):\n",
    "                #print(\"match 3\")\n",
    "                pickable_piece = (j,0)\n",
    "                if(j == 0):\n",
    "                    insertions = (Move.BOTTOM, Move.RIGHT)\n",
    "                elif (j == 4):\n",
    "                    insertions = (Move.BOTTOM, Move.LEFT)\n",
    "                else:\n",
    "                    insertions = (Move.LEFT, Move.RIGHT, Move.BOTTOM)\n",
    "                for insertion in insertions:\n",
    "                    #print((pickable_piece, insertion))\n",
    "                    moves.append((pickable_piece, insertion))\n",
    "            if(board[4, j] == self.player_value or board[4, j] == -1):\n",
    "                #print(\"match 4\")\n",
    "                pickable_piece = (j,4)\n",
    "                if (j == 0):\n",
    "                    insertions = (Move.TOP, Move.RIGHT)\n",
    "                elif (j == 4):\n",
    "                    insertions = (Move.TOP, Move.LEFT)\n",
    "                else:\n",
    "                    insertions = (Move.LEFT, Move.RIGHT, Move.TOP)\n",
    "                for insertion in insertions:\n",
    "                    #print((pickable_piece, insertion))\n",
    "                    moves.append((pickable_piece, insertion))\n",
    "        return moves\n",
    "\n",
    "    def hash_board(self, board):\n",
    "        sha_hash = sha1()\n",
    "        sha_hash.update(board.tobytes())\n",
    "        return sha_hash.hexdigest()\n",
    "\n",
    "    def epsilon(self, n):\n",
    "        xr = 1 - np.log2(1+(n / self.num_training_games))\n",
    "        epsilon = xr if n < self.num_training_games else 0\n",
    "        return epsilon\n"
   ]
  },
  {
   "cell_type": "code",
   "execution_count": null,
   "metadata": {},
   "outputs": [],
   "source": [
    "def simulate_games(num_simulation_games, agent: MyPlayer):\n",
    "    opponent = RandomPlayer()\n",
    "    results = []\n",
    "    #print(agent)\n",
    "    for _ in tqdm(range(num_simulation_games)):\n",
    "        t = Training_game()\n",
    "        result = t.play(agent, opponent)\n",
    "        results.append(result)\n",
    "    return results.count(agent.player_value) / num_simulation_games\n"
   ]
  },
  {
   "cell_type": "code",
   "execution_count": null,
   "metadata": {},
   "outputs": [],
   "source": [
    "def train_agains_rl_agent(num_games, batch_num):\n",
    "    random_opponent = RandomPlayer()\n",
    "\n",
    "    agent2 = MyPlayer(0, 0.2, 0.9, batch_num, False)\n",
    "    games_simulated = 0\n",
    "    x = []\n",
    "    winrates = []\n",
    "    while (games_simulated // batch_num) <(num_games // batch_num):\n",
    "        if (games_simulated % batch_num == 0):\n",
    "            x.append(games_simulated)\n",
    "            agent2.exploit = True\n",
    "            print(games_simulated)\n",
    "            winrate = simulate_games(1000, agent2)\n",
    "            winrates.append(winrate)\n",
    "            print(winrate)\n",
    "        agent2.exploit = False\n",
    "        #print(\"trains\")\n",
    "        agent2.train(batch_num)\n",
    "        games_simulated += batch_num\n",
    "    \n",
    "    return winrates, x"
   ]
  },
  {
   "cell_type": "code",
   "execution_count": 90,
   "metadata": {},
   "outputs": [],
   "source": [
    "num_training_games = 20000\n",
    "player_id = 0\n",
    "num_epochs = 100\n",
    "player = MyPlayer(player_id, 0.01, 0.9, num_training_games, False)"
   ]
  },
  {
   "cell_type": "code",
   "execution_count": 91,
   "metadata": {},
   "outputs": [
    {
     "name": "stderr",
     "output_type": "stream",
     "text": [
      "100%|██████████| 20000/20000 [01:46<00:00, 187.31it/s]\n",
      "100%|██████████| 1000/1000 [00:08<00:00, 112.61it/s]\n"
     ]
    },
    {
     "name": "stdout",
     "output_type": "stream",
     "text": [
      "player winrate: 0.474\n"
     ]
    },
    {
     "name": "stderr",
     "output_type": "stream",
     "text": [
      "100%|██████████| 20000/20000 [02:50<00:00, 117.27it/s]\n",
      "100%|██████████| 1000/1000 [00:07<00:00, 129.23it/s]\n"
     ]
    },
    {
     "name": "stdout",
     "output_type": "stream",
     "text": [
      "player winrate: 0.617\n"
     ]
    },
    {
     "name": "stderr",
     "output_type": "stream",
     "text": [
      "100%|██████████| 20000/20000 [02:33<00:00, 130.00it/s]\n",
      "100%|██████████| 1000/1000 [00:06<00:00, 143.68it/s]\n"
     ]
    },
    {
     "name": "stdout",
     "output_type": "stream",
     "text": [
      "player winrate: 0.681\n"
     ]
    },
    {
     "name": "stderr",
     "output_type": "stream",
     "text": [
      "100%|██████████| 20000/20000 [02:27<00:00, 135.48it/s]\n",
      "100%|██████████| 1000/1000 [00:07<00:00, 141.06it/s]\n"
     ]
    },
    {
     "name": "stdout",
     "output_type": "stream",
     "text": [
      "player winrate: 0.674\n"
     ]
    },
    {
     "name": "stderr",
     "output_type": "stream",
     "text": [
      "100%|██████████| 20000/20000 [02:23<00:00, 139.05it/s]\n",
      "100%|██████████| 1000/1000 [00:06<00:00, 147.50it/s]\n"
     ]
    },
    {
     "name": "stdout",
     "output_type": "stream",
     "text": [
      "player winrate: 0.672\n"
     ]
    },
    {
     "name": "stderr",
     "output_type": "stream",
     "text": [
      "100%|██████████| 20000/20000 [02:20<00:00, 142.81it/s]\n",
      "100%|██████████| 1000/1000 [00:06<00:00, 154.27it/s]\n"
     ]
    },
    {
     "name": "stdout",
     "output_type": "stream",
     "text": [
      "player winrate: 0.7\n"
     ]
    },
    {
     "name": "stderr",
     "output_type": "stream",
     "text": [
      "100%|██████████| 20000/20000 [02:15<00:00, 147.11it/s]\n",
      "100%|██████████| 1000/1000 [00:06<00:00, 154.40it/s]\n"
     ]
    },
    {
     "name": "stdout",
     "output_type": "stream",
     "text": [
      "player winrate: 0.738\n"
     ]
    },
    {
     "name": "stderr",
     "output_type": "stream",
     "text": [
      "100%|██████████| 20000/20000 [02:15<00:00, 147.89it/s]\n",
      "100%|██████████| 1000/1000 [00:06<00:00, 160.18it/s]\n"
     ]
    },
    {
     "name": "stdout",
     "output_type": "stream",
     "text": [
      "player winrate: 0.715\n"
     ]
    },
    {
     "name": "stderr",
     "output_type": "stream",
     "text": [
      "100%|██████████| 20000/20000 [02:14<00:00, 148.42it/s]\n",
      "100%|██████████| 1000/1000 [00:06<00:00, 157.67it/s]\n"
     ]
    },
    {
     "name": "stdout",
     "output_type": "stream",
     "text": [
      "player winrate: 0.727\n"
     ]
    },
    {
     "name": "stderr",
     "output_type": "stream",
     "text": [
      "100%|██████████| 20000/20000 [02:13<00:00, 149.57it/s]\n",
      "100%|██████████| 1000/1000 [00:06<00:00, 148.00it/s]\n"
     ]
    },
    {
     "name": "stdout",
     "output_type": "stream",
     "text": [
      "player winrate: 0.709\n"
     ]
    },
    {
     "name": "stderr",
     "output_type": "stream",
     "text": [
      "100%|██████████| 20000/20000 [02:11<00:00, 151.81it/s]\n",
      "100%|██████████| 1000/1000 [00:06<00:00, 158.40it/s]\n"
     ]
    },
    {
     "name": "stdout",
     "output_type": "stream",
     "text": [
      "player winrate: 0.732\n"
     ]
    },
    {
     "name": "stderr",
     "output_type": "stream",
     "text": [
      "100%|██████████| 20000/20000 [02:10<00:00, 153.47it/s]\n",
      "100%|██████████| 1000/1000 [00:06<00:00, 162.08it/s]\n"
     ]
    },
    {
     "name": "stdout",
     "output_type": "stream",
     "text": [
      "player winrate: 0.764\n"
     ]
    },
    {
     "name": "stderr",
     "output_type": "stream",
     "text": [
      "100%|██████████| 20000/20000 [02:08<00:00, 155.15it/s]\n",
      "100%|██████████| 1000/1000 [00:06<00:00, 163.58it/s]\n"
     ]
    },
    {
     "name": "stdout",
     "output_type": "stream",
     "text": [
      "player winrate: 0.753\n"
     ]
    },
    {
     "name": "stderr",
     "output_type": "stream",
     "text": [
      "100%|██████████| 20000/20000 [02:12<00:00, 150.61it/s]\n",
      "100%|██████████| 1000/1000 [00:05<00:00, 167.15it/s]\n"
     ]
    },
    {
     "name": "stdout",
     "output_type": "stream",
     "text": [
      "player winrate: 0.752\n"
     ]
    },
    {
     "name": "stderr",
     "output_type": "stream",
     "text": [
      "100%|██████████| 20000/20000 [02:07<00:00, 156.99it/s]\n",
      "100%|██████████| 1000/1000 [00:05<00:00, 167.34it/s]\n"
     ]
    },
    {
     "name": "stdout",
     "output_type": "stream",
     "text": [
      "player winrate: 0.771\n"
     ]
    },
    {
     "name": "stderr",
     "output_type": "stream",
     "text": [
      "100%|██████████| 20000/20000 [02:09<00:00, 154.20it/s]\n",
      "100%|██████████| 1000/1000 [00:06<00:00, 165.68it/s]\n"
     ]
    },
    {
     "name": "stdout",
     "output_type": "stream",
     "text": [
      "player winrate: 0.767\n"
     ]
    },
    {
     "name": "stderr",
     "output_type": "stream",
     "text": [
      "100%|██████████| 20000/20000 [02:05<00:00, 159.22it/s]\n",
      "100%|██████████| 1000/1000 [00:05<00:00, 169.13it/s]\n"
     ]
    },
    {
     "name": "stdout",
     "output_type": "stream",
     "text": [
      "player winrate: 0.78\n"
     ]
    },
    {
     "name": "stderr",
     "output_type": "stream",
     "text": [
      "100%|██████████| 20000/20000 [02:05<00:00, 159.12it/s]\n",
      "100%|██████████| 1000/1000 [00:06<00:00, 163.23it/s]\n"
     ]
    },
    {
     "name": "stdout",
     "output_type": "stream",
     "text": [
      "player winrate: 0.782\n"
     ]
    },
    {
     "name": "stderr",
     "output_type": "stream",
     "text": [
      "100%|██████████| 20000/20000 [02:04<00:00, 160.40it/s]\n",
      "100%|██████████| 1000/1000 [00:05<00:00, 174.43it/s]\n"
     ]
    },
    {
     "name": "stdout",
     "output_type": "stream",
     "text": [
      "player winrate: 0.771\n"
     ]
    },
    {
     "name": "stderr",
     "output_type": "stream",
     "text": [
      "100%|██████████| 20000/20000 [02:01<00:00, 164.06it/s]\n",
      "100%|██████████| 1000/1000 [00:05<00:00, 171.35it/s]\n"
     ]
    },
    {
     "name": "stdout",
     "output_type": "stream",
     "text": [
      "player winrate: 0.777\n"
     ]
    },
    {
     "name": "stderr",
     "output_type": "stream",
     "text": [
      "100%|██████████| 20000/20000 [02:04<00:00, 160.43it/s]\n",
      "100%|██████████| 1000/1000 [00:05<00:00, 169.66it/s]\n"
     ]
    },
    {
     "name": "stdout",
     "output_type": "stream",
     "text": [
      "player winrate: 0.808\n"
     ]
    },
    {
     "name": "stderr",
     "output_type": "stream",
     "text": [
      "100%|██████████| 20000/20000 [02:03<00:00, 162.29it/s]\n",
      "100%|██████████| 1000/1000 [00:05<00:00, 178.15it/s]\n"
     ]
    },
    {
     "name": "stdout",
     "output_type": "stream",
     "text": [
      "player winrate: 0.792\n"
     ]
    },
    {
     "name": "stderr",
     "output_type": "stream",
     "text": [
      "100%|██████████| 20000/20000 [01:59<00:00, 167.53it/s]\n",
      "100%|██████████| 1000/1000 [00:05<00:00, 178.78it/s]\n"
     ]
    },
    {
     "name": "stdout",
     "output_type": "stream",
     "text": [
      "player winrate: 0.792\n"
     ]
    },
    {
     "name": "stderr",
     "output_type": "stream",
     "text": [
      "100%|██████████| 20000/20000 [02:02<00:00, 163.78it/s]\n",
      "100%|██████████| 1000/1000 [00:05<00:00, 170.85it/s]\n"
     ]
    },
    {
     "name": "stdout",
     "output_type": "stream",
     "text": [
      "player winrate: 0.789\n"
     ]
    },
    {
     "name": "stderr",
     "output_type": "stream",
     "text": [
      "100%|██████████| 20000/20000 [01:57<00:00, 169.66it/s]\n",
      "100%|██████████| 1000/1000 [00:05<00:00, 175.19it/s]\n"
     ]
    },
    {
     "name": "stdout",
     "output_type": "stream",
     "text": [
      "player winrate: 0.789\n"
     ]
    },
    {
     "name": "stderr",
     "output_type": "stream",
     "text": [
      "100%|██████████| 20000/20000 [01:59<00:00, 167.14it/s]\n",
      "100%|██████████| 1000/1000 [00:05<00:00, 170.42it/s]\n"
     ]
    },
    {
     "name": "stdout",
     "output_type": "stream",
     "text": [
      "player winrate: 0.797\n"
     ]
    },
    {
     "name": "stderr",
     "output_type": "stream",
     "text": [
      "100%|██████████| 20000/20000 [01:58<00:00, 168.12it/s]\n",
      "100%|██████████| 1000/1000 [00:05<00:00, 184.02it/s]\n"
     ]
    },
    {
     "name": "stdout",
     "output_type": "stream",
     "text": [
      "player winrate: 0.816\n"
     ]
    },
    {
     "name": "stderr",
     "output_type": "stream",
     "text": [
      "100%|██████████| 20000/20000 [02:02<00:00, 163.80it/s]\n",
      "100%|██████████| 1000/1000 [00:05<00:00, 169.80it/s]\n"
     ]
    },
    {
     "name": "stdout",
     "output_type": "stream",
     "text": [
      "player winrate: 0.813\n"
     ]
    },
    {
     "name": "stderr",
     "output_type": "stream",
     "text": [
      "100%|██████████| 20000/20000 [02:01<00:00, 165.18it/s]\n",
      "100%|██████████| 1000/1000 [00:05<00:00, 172.53it/s]\n"
     ]
    },
    {
     "name": "stdout",
     "output_type": "stream",
     "text": [
      "player winrate: 0.802\n"
     ]
    },
    {
     "name": "stderr",
     "output_type": "stream",
     "text": [
      "100%|██████████| 20000/20000 [02:00<00:00, 165.67it/s]\n",
      "100%|██████████| 1000/1000 [00:05<00:00, 173.44it/s]\n"
     ]
    },
    {
     "name": "stdout",
     "output_type": "stream",
     "text": [
      "player winrate: 0.789\n"
     ]
    },
    {
     "name": "stderr",
     "output_type": "stream",
     "text": [
      "100%|██████████| 20000/20000 [02:01<00:00, 164.90it/s]\n",
      "100%|██████████| 1000/1000 [00:05<00:00, 171.97it/s]\n"
     ]
    },
    {
     "name": "stdout",
     "output_type": "stream",
     "text": [
      "player winrate: 0.798\n"
     ]
    },
    {
     "name": "stderr",
     "output_type": "stream",
     "text": [
      "100%|██████████| 20000/20000 [01:59<00:00, 167.39it/s]\n",
      "100%|██████████| 1000/1000 [00:05<00:00, 178.62it/s]\n"
     ]
    },
    {
     "name": "stdout",
     "output_type": "stream",
     "text": [
      "player winrate: 0.81\n"
     ]
    },
    {
     "name": "stderr",
     "output_type": "stream",
     "text": [
      "100%|██████████| 20000/20000 [02:00<00:00, 165.34it/s]\n",
      "100%|██████████| 1000/1000 [00:05<00:00, 169.76it/s]\n"
     ]
    },
    {
     "name": "stdout",
     "output_type": "stream",
     "text": [
      "player winrate: 0.803\n"
     ]
    },
    {
     "name": "stderr",
     "output_type": "stream",
     "text": [
      "100%|██████████| 20000/20000 [02:02<00:00, 163.22it/s]\n",
      "100%|██████████| 1000/1000 [00:05<00:00, 177.61it/s]\n"
     ]
    },
    {
     "name": "stdout",
     "output_type": "stream",
     "text": [
      "player winrate: 0.814\n"
     ]
    },
    {
     "name": "stderr",
     "output_type": "stream",
     "text": [
      "100%|██████████| 20000/20000 [01:59<00:00, 166.95it/s]\n",
      "100%|██████████| 1000/1000 [00:06<00:00, 166.34it/s]\n"
     ]
    },
    {
     "name": "stdout",
     "output_type": "stream",
     "text": [
      "player winrate: 0.796\n"
     ]
    },
    {
     "name": "stderr",
     "output_type": "stream",
     "text": [
      "100%|██████████| 20000/20000 [02:00<00:00, 166.22it/s]\n",
      "100%|██████████| 1000/1000 [00:05<00:00, 169.85it/s]\n"
     ]
    },
    {
     "name": "stdout",
     "output_type": "stream",
     "text": [
      "player winrate: 0.785\n"
     ]
    },
    {
     "name": "stderr",
     "output_type": "stream",
     "text": [
      "100%|██████████| 20000/20000 [01:59<00:00, 167.50it/s]\n",
      "100%|██████████| 1000/1000 [00:05<00:00, 169.83it/s]\n"
     ]
    },
    {
     "name": "stdout",
     "output_type": "stream",
     "text": [
      "player winrate: 0.801\n"
     ]
    },
    {
     "name": "stderr",
     "output_type": "stream",
     "text": [
      "100%|██████████| 20000/20000 [02:00<00:00, 165.35it/s]\n",
      "100%|██████████| 1000/1000 [00:05<00:00, 177.88it/s]\n"
     ]
    },
    {
     "name": "stdout",
     "output_type": "stream",
     "text": [
      "player winrate: 0.814\n"
     ]
    },
    {
     "name": "stderr",
     "output_type": "stream",
     "text": [
      "100%|██████████| 20000/20000 [01:59<00:00, 167.08it/s]\n",
      "100%|██████████| 1000/1000 [00:05<00:00, 184.48it/s]\n"
     ]
    },
    {
     "name": "stdout",
     "output_type": "stream",
     "text": [
      "player winrate: 0.833\n"
     ]
    },
    {
     "name": "stderr",
     "output_type": "stream",
     "text": [
      "100%|██████████| 20000/20000 [02:00<00:00, 166.34it/s]\n",
      "100%|██████████| 1000/1000 [00:06<00:00, 156.92it/s]\n"
     ]
    },
    {
     "name": "stdout",
     "output_type": "stream",
     "text": [
      "player winrate: 0.798\n"
     ]
    },
    {
     "name": "stderr",
     "output_type": "stream",
     "text": [
      "100%|██████████| 20000/20000 [01:58<00:00, 169.39it/s]\n",
      "100%|██████████| 1000/1000 [00:05<00:00, 172.35it/s]\n"
     ]
    },
    {
     "name": "stdout",
     "output_type": "stream",
     "text": [
      "player winrate: 0.799\n"
     ]
    },
    {
     "name": "stderr",
     "output_type": "stream",
     "text": [
      "100%|██████████| 20000/20000 [01:58<00:00, 169.27it/s]\n",
      "100%|██████████| 1000/1000 [00:05<00:00, 180.18it/s]\n"
     ]
    },
    {
     "name": "stdout",
     "output_type": "stream",
     "text": [
      "player winrate: 0.804\n"
     ]
    },
    {
     "name": "stderr",
     "output_type": "stream",
     "text": [
      "100%|██████████| 20000/20000 [01:54<00:00, 175.14it/s]\n",
      "100%|██████████| 1000/1000 [00:05<00:00, 181.08it/s]\n"
     ]
    },
    {
     "name": "stdout",
     "output_type": "stream",
     "text": [
      "player winrate: 0.809\n"
     ]
    },
    {
     "name": "stderr",
     "output_type": "stream",
     "text": [
      "100%|██████████| 20000/20000 [01:54<00:00, 175.27it/s]\n",
      "100%|██████████| 1000/1000 [00:05<00:00, 182.55it/s]\n"
     ]
    },
    {
     "name": "stdout",
     "output_type": "stream",
     "text": [
      "player winrate: 0.803\n"
     ]
    },
    {
     "name": "stderr",
     "output_type": "stream",
     "text": [
      "100%|██████████| 20000/20000 [01:56<00:00, 172.04it/s]\n",
      "100%|██████████| 1000/1000 [00:05<00:00, 185.50it/s]\n"
     ]
    },
    {
     "name": "stdout",
     "output_type": "stream",
     "text": [
      "player winrate: 0.825\n"
     ]
    },
    {
     "name": "stderr",
     "output_type": "stream",
     "text": [
      "100%|██████████| 20000/20000 [01:52<00:00, 177.81it/s]\n",
      "100%|██████████| 1000/1000 [00:05<00:00, 184.18it/s]\n"
     ]
    },
    {
     "name": "stdout",
     "output_type": "stream",
     "text": [
      "player winrate: 0.833\n"
     ]
    },
    {
     "name": "stderr",
     "output_type": "stream",
     "text": [
      "100%|██████████| 20000/20000 [01:54<00:00, 175.42it/s]\n",
      "100%|██████████| 1000/1000 [00:05<00:00, 190.50it/s]\n"
     ]
    },
    {
     "name": "stdout",
     "output_type": "stream",
     "text": [
      "player winrate: 0.829\n"
     ]
    },
    {
     "name": "stderr",
     "output_type": "stream",
     "text": [
      "100%|██████████| 20000/20000 [01:53<00:00, 176.10it/s]\n",
      "100%|██████████| 1000/1000 [00:05<00:00, 186.96it/s]\n"
     ]
    },
    {
     "name": "stdout",
     "output_type": "stream",
     "text": [
      "player winrate: 0.836\n"
     ]
    },
    {
     "name": "stderr",
     "output_type": "stream",
     "text": [
      "100%|██████████| 20000/20000 [01:53<00:00, 176.09it/s]\n",
      "100%|██████████| 1000/1000 [00:05<00:00, 185.58it/s]\n"
     ]
    },
    {
     "name": "stdout",
     "output_type": "stream",
     "text": [
      "player winrate: 0.83\n"
     ]
    },
    {
     "name": "stderr",
     "output_type": "stream",
     "text": [
      "100%|██████████| 20000/20000 [01:52<00:00, 177.11it/s]\n",
      "100%|██████████| 1000/1000 [00:05<00:00, 180.35it/s]\n"
     ]
    },
    {
     "name": "stdout",
     "output_type": "stream",
     "text": [
      "player winrate: 0.814\n"
     ]
    },
    {
     "name": "stderr",
     "output_type": "stream",
     "text": [
      "100%|██████████| 20000/20000 [01:53<00:00, 176.32it/s]\n",
      "100%|██████████| 1000/1000 [00:05<00:00, 185.14it/s]\n"
     ]
    },
    {
     "name": "stdout",
     "output_type": "stream",
     "text": [
      "player winrate: 0.822\n"
     ]
    },
    {
     "name": "stderr",
     "output_type": "stream",
     "text": [
      "100%|██████████| 20000/20000 [01:52<00:00, 178.06it/s]\n",
      "100%|██████████| 1000/1000 [00:05<00:00, 187.79it/s]\n"
     ]
    },
    {
     "name": "stdout",
     "output_type": "stream",
     "text": [
      "player winrate: 0.823\n"
     ]
    },
    {
     "name": "stderr",
     "output_type": "stream",
     "text": [
      "100%|██████████| 20000/20000 [01:52<00:00, 177.22it/s]\n",
      "100%|██████████| 1000/1000 [00:05<00:00, 173.94it/s]\n"
     ]
    },
    {
     "name": "stdout",
     "output_type": "stream",
     "text": [
      "player winrate: 0.802\n"
     ]
    },
    {
     "name": "stderr",
     "output_type": "stream",
     "text": [
      "100%|██████████| 20000/20000 [01:52<00:00, 177.05it/s]\n",
      "100%|██████████| 1000/1000 [00:05<00:00, 188.88it/s]\n"
     ]
    },
    {
     "name": "stdout",
     "output_type": "stream",
     "text": [
      "player winrate: 0.83\n"
     ]
    },
    {
     "name": "stderr",
     "output_type": "stream",
     "text": [
      "100%|██████████| 20000/20000 [01:51<00:00, 178.68it/s]\n",
      "100%|██████████| 1000/1000 [00:05<00:00, 185.02it/s]\n"
     ]
    },
    {
     "name": "stdout",
     "output_type": "stream",
     "text": [
      "player winrate: 0.821\n"
     ]
    },
    {
     "name": "stderr",
     "output_type": "stream",
     "text": [
      "100%|██████████| 20000/20000 [01:51<00:00, 178.85it/s]\n",
      "100%|██████████| 1000/1000 [00:05<00:00, 187.74it/s]\n"
     ]
    },
    {
     "name": "stdout",
     "output_type": "stream",
     "text": [
      "player winrate: 0.821\n"
     ]
    },
    {
     "name": "stderr",
     "output_type": "stream",
     "text": [
      "100%|██████████| 20000/20000 [01:51<00:00, 179.18it/s]\n",
      "100%|██████████| 1000/1000 [00:05<00:00, 187.70it/s]\n"
     ]
    },
    {
     "name": "stdout",
     "output_type": "stream",
     "text": [
      "player winrate: 0.822\n"
     ]
    },
    {
     "name": "stderr",
     "output_type": "stream",
     "text": [
      "100%|██████████| 20000/20000 [01:52<00:00, 178.49it/s]\n",
      "100%|██████████| 1000/1000 [00:05<00:00, 186.95it/s]\n"
     ]
    },
    {
     "name": "stdout",
     "output_type": "stream",
     "text": [
      "player winrate: 0.813\n"
     ]
    },
    {
     "name": "stderr",
     "output_type": "stream",
     "text": [
      "100%|██████████| 20000/20000 [01:51<00:00, 179.02it/s]\n",
      "100%|██████████| 1000/1000 [00:05<00:00, 187.92it/s]\n"
     ]
    },
    {
     "name": "stdout",
     "output_type": "stream",
     "text": [
      "player winrate: 0.817\n"
     ]
    },
    {
     "name": "stderr",
     "output_type": "stream",
     "text": [
      "100%|██████████| 20000/20000 [01:51<00:00, 179.86it/s]\n",
      "100%|██████████| 1000/1000 [00:05<00:00, 186.19it/s]\n"
     ]
    },
    {
     "name": "stdout",
     "output_type": "stream",
     "text": [
      "player winrate: 0.853\n"
     ]
    },
    {
     "name": "stderr",
     "output_type": "stream",
     "text": [
      "100%|██████████| 20000/20000 [01:54<00:00, 174.95it/s]\n",
      "100%|██████████| 1000/1000 [00:05<00:00, 186.18it/s]\n"
     ]
    },
    {
     "name": "stdout",
     "output_type": "stream",
     "text": [
      "player winrate: 0.828\n"
     ]
    },
    {
     "name": "stderr",
     "output_type": "stream",
     "text": [
      "100%|██████████| 20000/20000 [01:53<00:00, 176.36it/s]\n",
      "100%|██████████| 1000/1000 [00:05<00:00, 180.47it/s]\n"
     ]
    },
    {
     "name": "stdout",
     "output_type": "stream",
     "text": [
      "player winrate: 0.841\n"
     ]
    },
    {
     "name": "stderr",
     "output_type": "stream",
     "text": [
      "100%|██████████| 20000/20000 [01:52<00:00, 177.61it/s]\n",
      "100%|██████████| 1000/1000 [00:05<00:00, 184.48it/s]\n"
     ]
    },
    {
     "name": "stdout",
     "output_type": "stream",
     "text": [
      "player winrate: 0.826\n"
     ]
    },
    {
     "name": "stderr",
     "output_type": "stream",
     "text": [
      "100%|██████████| 20000/20000 [01:52<00:00, 178.29it/s]\n",
      "100%|██████████| 1000/1000 [00:05<00:00, 180.46it/s]\n"
     ]
    },
    {
     "name": "stdout",
     "output_type": "stream",
     "text": [
      "player winrate: 0.797\n"
     ]
    },
    {
     "name": "stderr",
     "output_type": "stream",
     "text": [
      "100%|██████████| 20000/20000 [01:53<00:00, 176.75it/s]\n",
      "100%|██████████| 1000/1000 [00:05<00:00, 185.78it/s]\n"
     ]
    },
    {
     "name": "stdout",
     "output_type": "stream",
     "text": [
      "player winrate: 0.869\n"
     ]
    },
    {
     "name": "stderr",
     "output_type": "stream",
     "text": [
      "100%|██████████| 20000/20000 [01:55<00:00, 173.43it/s]\n",
      "100%|██████████| 1000/1000 [00:05<00:00, 181.17it/s]\n"
     ]
    },
    {
     "name": "stdout",
     "output_type": "stream",
     "text": [
      "player winrate: 0.84\n"
     ]
    },
    {
     "name": "stderr",
     "output_type": "stream",
     "text": [
      "100%|██████████| 20000/20000 [01:52<00:00, 177.38it/s]\n",
      "100%|██████████| 1000/1000 [00:05<00:00, 189.12it/s]\n"
     ]
    },
    {
     "name": "stdout",
     "output_type": "stream",
     "text": [
      "player winrate: 0.849\n"
     ]
    },
    {
     "name": "stderr",
     "output_type": "stream",
     "text": [
      "100%|██████████| 20000/20000 [01:54<00:00, 174.61it/s]\n",
      "100%|██████████| 1000/1000 [00:05<00:00, 180.02it/s]\n"
     ]
    },
    {
     "name": "stdout",
     "output_type": "stream",
     "text": [
      "player winrate: 0.854\n"
     ]
    },
    {
     "name": "stderr",
     "output_type": "stream",
     "text": [
      "100%|██████████| 20000/20000 [01:54<00:00, 175.33it/s]\n",
      "100%|██████████| 1000/1000 [00:05<00:00, 184.84it/s]\n"
     ]
    },
    {
     "name": "stdout",
     "output_type": "stream",
     "text": [
      "player winrate: 0.833\n"
     ]
    },
    {
     "name": "stderr",
     "output_type": "stream",
     "text": [
      "100%|██████████| 20000/20000 [01:53<00:00, 175.83it/s]\n",
      "100%|██████████| 1000/1000 [00:05<00:00, 187.30it/s]\n"
     ]
    },
    {
     "name": "stdout",
     "output_type": "stream",
     "text": [
      "player winrate: 0.838\n"
     ]
    },
    {
     "name": "stderr",
     "output_type": "stream",
     "text": [
      "100%|██████████| 20000/20000 [01:53<00:00, 175.79it/s]\n",
      "100%|██████████| 1000/1000 [00:05<00:00, 181.51it/s]\n"
     ]
    },
    {
     "name": "stdout",
     "output_type": "stream",
     "text": [
      "player winrate: 0.849\n"
     ]
    },
    {
     "name": "stderr",
     "output_type": "stream",
     "text": [
      "100%|██████████| 20000/20000 [01:52<00:00, 178.00it/s]\n",
      "100%|██████████| 1000/1000 [00:05<00:00, 183.23it/s]\n"
     ]
    },
    {
     "name": "stdout",
     "output_type": "stream",
     "text": [
      "player winrate: 0.824\n"
     ]
    },
    {
     "name": "stderr",
     "output_type": "stream",
     "text": [
      "100%|██████████| 20000/20000 [01:51<00:00, 178.91it/s]\n",
      "100%|██████████| 1000/1000 [00:05<00:00, 186.82it/s]\n"
     ]
    },
    {
     "name": "stdout",
     "output_type": "stream",
     "text": [
      "player winrate: 0.852\n"
     ]
    },
    {
     "name": "stderr",
     "output_type": "stream",
     "text": [
      "100%|██████████| 20000/20000 [01:52<00:00, 178.20it/s]\n",
      "100%|██████████| 1000/1000 [00:05<00:00, 177.83it/s]\n"
     ]
    },
    {
     "name": "stdout",
     "output_type": "stream",
     "text": [
      "player winrate: 0.842\n"
     ]
    },
    {
     "name": "stderr",
     "output_type": "stream",
     "text": [
      "100%|██████████| 20000/20000 [01:52<00:00, 177.44it/s]\n",
      "100%|██████████| 1000/1000 [00:05<00:00, 181.89it/s]\n"
     ]
    },
    {
     "name": "stdout",
     "output_type": "stream",
     "text": [
      "player winrate: 0.84\n"
     ]
    },
    {
     "name": "stderr",
     "output_type": "stream",
     "text": [
      "100%|██████████| 20000/20000 [01:53<00:00, 176.17it/s]\n",
      "100%|██████████| 1000/1000 [00:05<00:00, 185.16it/s]\n"
     ]
    },
    {
     "name": "stdout",
     "output_type": "stream",
     "text": [
      "player winrate: 0.817\n"
     ]
    },
    {
     "name": "stderr",
     "output_type": "stream",
     "text": [
      "100%|██████████| 20000/20000 [01:52<00:00, 177.89it/s]\n",
      "100%|██████████| 1000/1000 [00:05<00:00, 184.80it/s]\n"
     ]
    },
    {
     "name": "stdout",
     "output_type": "stream",
     "text": [
      "player winrate: 0.838\n"
     ]
    },
    {
     "name": "stderr",
     "output_type": "stream",
     "text": [
      "100%|██████████| 20000/20000 [01:54<00:00, 174.52it/s]\n",
      "100%|██████████| 1000/1000 [00:05<00:00, 182.31it/s]\n"
     ]
    },
    {
     "name": "stdout",
     "output_type": "stream",
     "text": [
      "player winrate: 0.839\n"
     ]
    },
    {
     "name": "stderr",
     "output_type": "stream",
     "text": [
      "100%|██████████| 20000/20000 [01:54<00:00, 175.27it/s]\n",
      "100%|██████████| 1000/1000 [00:05<00:00, 179.36it/s]\n"
     ]
    },
    {
     "name": "stdout",
     "output_type": "stream",
     "text": [
      "player winrate: 0.831\n"
     ]
    },
    {
     "name": "stderr",
     "output_type": "stream",
     "text": [
      "100%|██████████| 20000/20000 [01:51<00:00, 179.63it/s]\n",
      "100%|██████████| 1000/1000 [00:05<00:00, 190.57it/s]\n"
     ]
    },
    {
     "name": "stdout",
     "output_type": "stream",
     "text": [
      "player winrate: 0.853\n"
     ]
    },
    {
     "name": "stderr",
     "output_type": "stream",
     "text": [
      "100%|██████████| 20000/20000 [01:54<00:00, 174.22it/s]\n",
      "100%|██████████| 1000/1000 [00:05<00:00, 184.59it/s]\n"
     ]
    },
    {
     "name": "stdout",
     "output_type": "stream",
     "text": [
      "player winrate: 0.844\n"
     ]
    },
    {
     "name": "stderr",
     "output_type": "stream",
     "text": [
      "100%|██████████| 20000/20000 [01:48<00:00, 184.76it/s]\n",
      "100%|██████████| 1000/1000 [00:05<00:00, 190.73it/s]\n"
     ]
    },
    {
     "name": "stdout",
     "output_type": "stream",
     "text": [
      "player winrate: 0.848\n"
     ]
    },
    {
     "name": "stderr",
     "output_type": "stream",
     "text": [
      "100%|██████████| 20000/20000 [01:46<00:00, 187.66it/s]\n",
      "100%|██████████| 1000/1000 [00:05<00:00, 190.95it/s]\n"
     ]
    },
    {
     "name": "stdout",
     "output_type": "stream",
     "text": [
      "player winrate: 0.833\n"
     ]
    },
    {
     "name": "stderr",
     "output_type": "stream",
     "text": [
      "100%|██████████| 20000/20000 [01:49<00:00, 181.88it/s]\n",
      "100%|██████████| 1000/1000 [00:04<00:00, 200.48it/s]\n"
     ]
    },
    {
     "name": "stdout",
     "output_type": "stream",
     "text": [
      "player winrate: 0.848\n"
     ]
    },
    {
     "name": "stderr",
     "output_type": "stream",
     "text": [
      "100%|██████████| 20000/20000 [01:47<00:00, 186.65it/s]\n",
      "100%|██████████| 1000/1000 [00:05<00:00, 196.93it/s]\n"
     ]
    },
    {
     "name": "stdout",
     "output_type": "stream",
     "text": [
      "player winrate: 0.856\n"
     ]
    },
    {
     "name": "stderr",
     "output_type": "stream",
     "text": [
      "100%|██████████| 20000/20000 [01:48<00:00, 183.79it/s]\n",
      "100%|██████████| 1000/1000 [00:05<00:00, 187.96it/s]\n"
     ]
    },
    {
     "name": "stdout",
     "output_type": "stream",
     "text": [
      "player winrate: 0.847\n"
     ]
    },
    {
     "name": "stderr",
     "output_type": "stream",
     "text": [
      "100%|██████████| 20000/20000 [01:46<00:00, 187.74it/s]\n",
      "100%|██████████| 1000/1000 [00:05<00:00, 196.53it/s]\n"
     ]
    },
    {
     "name": "stdout",
     "output_type": "stream",
     "text": [
      "player winrate: 0.847\n"
     ]
    },
    {
     "name": "stderr",
     "output_type": "stream",
     "text": [
      "100%|██████████| 20000/20000 [01:45<00:00, 189.45it/s]\n",
      "100%|██████████| 1000/1000 [00:05<00:00, 188.40it/s]\n"
     ]
    },
    {
     "name": "stdout",
     "output_type": "stream",
     "text": [
      "player winrate: 0.857\n"
     ]
    },
    {
     "name": "stderr",
     "output_type": "stream",
     "text": [
      "100%|██████████| 20000/20000 [01:48<00:00, 184.66it/s]\n",
      "100%|██████████| 1000/1000 [00:05<00:00, 193.35it/s]\n"
     ]
    },
    {
     "name": "stdout",
     "output_type": "stream",
     "text": [
      "player winrate: 0.869\n"
     ]
    },
    {
     "name": "stderr",
     "output_type": "stream",
     "text": [
      "100%|██████████| 20000/20000 [01:49<00:00, 182.25it/s]\n",
      "100%|██████████| 1000/1000 [00:04<00:00, 201.03it/s]\n"
     ]
    },
    {
     "name": "stdout",
     "output_type": "stream",
     "text": [
      "player winrate: 0.856\n"
     ]
    },
    {
     "name": "stderr",
     "output_type": "stream",
     "text": [
      "100%|██████████| 20000/20000 [01:48<00:00, 183.94it/s]\n",
      "100%|██████████| 1000/1000 [00:05<00:00, 181.80it/s]\n"
     ]
    },
    {
     "name": "stdout",
     "output_type": "stream",
     "text": [
      "player winrate: 0.848\n"
     ]
    },
    {
     "name": "stderr",
     "output_type": "stream",
     "text": [
      "100%|██████████| 20000/20000 [01:53<00:00, 175.96it/s]\n",
      "100%|██████████| 1000/1000 [00:05<00:00, 176.61it/s]\n"
     ]
    },
    {
     "name": "stdout",
     "output_type": "stream",
     "text": [
      "player winrate: 0.855\n"
     ]
    },
    {
     "name": "stderr",
     "output_type": "stream",
     "text": [
      "100%|██████████| 20000/20000 [01:49<00:00, 182.40it/s]\n",
      "100%|██████████| 1000/1000 [00:05<00:00, 184.83it/s]\n"
     ]
    },
    {
     "name": "stdout",
     "output_type": "stream",
     "text": [
      "player winrate: 0.864\n"
     ]
    },
    {
     "name": "stderr",
     "output_type": "stream",
     "text": [
      "100%|██████████| 20000/20000 [01:50<00:00, 180.33it/s]\n",
      "100%|██████████| 1000/1000 [00:05<00:00, 187.82it/s]\n"
     ]
    },
    {
     "name": "stdout",
     "output_type": "stream",
     "text": [
      "player winrate: 0.871\n"
     ]
    },
    {
     "name": "stderr",
     "output_type": "stream",
     "text": [
      "100%|██████████| 20000/20000 [01:53<00:00, 176.57it/s]\n",
      "100%|██████████| 1000/1000 [00:05<00:00, 198.05it/s]\n"
     ]
    },
    {
     "name": "stdout",
     "output_type": "stream",
     "text": [
      "player winrate: 0.872\n"
     ]
    },
    {
     "name": "stderr",
     "output_type": "stream",
     "text": [
      "100%|██████████| 20000/20000 [01:50<00:00, 181.16it/s]\n",
      "100%|██████████| 1000/1000 [00:05<00:00, 189.95it/s]\n"
     ]
    },
    {
     "name": "stdout",
     "output_type": "stream",
     "text": [
      "player winrate: 0.867\n"
     ]
    },
    {
     "name": "stderr",
     "output_type": "stream",
     "text": [
      "100%|██████████| 20000/20000 [6:54:15<00:00,  1.24s/it]     \n",
      "100%|██████████| 1000/1000 [00:05<00:00, 167.22it/s]\n"
     ]
    },
    {
     "name": "stdout",
     "output_type": "stream",
     "text": [
      "player winrate: 0.859\n"
     ]
    },
    {
     "name": "stderr",
     "output_type": "stream",
     "text": [
      "100%|██████████| 20000/20000 [02:04<00:00, 160.18it/s]\n",
      "100%|██████████| 1000/1000 [00:04<00:00, 200.76it/s]\n"
     ]
    },
    {
     "name": "stdout",
     "output_type": "stream",
     "text": [
      "player winrate: 0.878\n"
     ]
    },
    {
     "name": "stderr",
     "output_type": "stream",
     "text": [
      "100%|██████████| 20000/20000 [02:03<00:00, 162.47it/s]\n",
      "100%|██████████| 1000/1000 [00:05<00:00, 167.48it/s]\n"
     ]
    },
    {
     "name": "stdout",
     "output_type": "stream",
     "text": [
      "player winrate: 0.855\n"
     ]
    },
    {
     "name": "stderr",
     "output_type": "stream",
     "text": [
      "100%|██████████| 20000/20000 [01:51<00:00, 180.16it/s]\n",
      "100%|██████████| 1000/1000 [00:04<00:00, 208.37it/s]\n"
     ]
    },
    {
     "name": "stdout",
     "output_type": "stream",
     "text": [
      "player winrate: 0.868\n"
     ]
    },
    {
     "data": {
      "text/plain": [
       "[<matplotlib.lines.Line2D at 0x2bb2cb4c0>]"
      ]
     },
     "execution_count": 91,
     "metadata": {},
     "output_type": "execute_result"
    },
    {
     "data": {
      "image/png": "[encoded data removed]",
      "text/plain": [
       "<Figure size 640x480 with 1 Axes>"
      ]
     },
     "metadata": {},
     "output_type": "display_data"
    }
   ],
   "source": [
    "x = []\n",
    "w = []\n",
    "for i in range(num_epochs):\n",
    "    player.train(num_training_games)\n",
    "    r = RandomPlayer()\n",
    "    num_games = 1000\n",
    "    results = []\n",
    "    for _ in tqdm(range(num_games)):\n",
    "        r2 = RandomPlayer()\n",
    "        t = Game()\n",
    "        result = t.play(player,r)\n",
    "        results.append(result)\n",
    "\n",
    "    print(f\"player winrate: {results.count(player_id) / num_games}\")\n",
    "    #print(f\"random winrate: {results.count(1-player_id) / num_games}\")\n",
    "\n",
    "    w.append(results.count(player_id) / num_games)\n",
    "    x.append(i * num_training_games)\n",
    "    \n",
    "plt.plot(x, w)\n"
   ]
  },
  {
   "cell_type": "code",
   "execution_count": null,
   "metadata": {},
   "outputs": [],
   "source": [
    "player.train(num_training_games)"
   ]
  },
  {
   "cell_type": "code",
   "execution_count": null,
   "metadata": {},
   "outputs": [],
   "source": [
    "print(w)"
   ]
  },
  {
   "cell_type": "code",
   "execution_count": null,
   "metadata": {},
   "outputs": [],
   "source": []
  },
  {
   "cell_type": "code",
   "execution_count": null,
   "metadata": {},
   "outputs": [],
   "source": [
    "# num_training_games = 100000\n",
    "# player.num_training_games = 100000\n",
    "# print(1-np.log2(1+10000/10000))\n",
    "# x = [i for i in range(num_training_games+100)]\n",
    "# xr = [player.epsilon(i) for i in range(num_training_games+100)]"
   ]
  },
  {
   "cell_type": "code",
   "execution_count": null,
   "metadata": {},
   "outputs": [],
   "source": [
    "# plt.plot(x, xr)"
   ]
  },
  {
   "cell_type": "code",
   "execution_count": null,
   "metadata": {},
   "outputs": [],
   "source": [
    "# winrate, x = train_agains_rl_agent(100000, 10000)"
   ]
  },
  {
   "cell_type": "code",
   "execution_count": null,
   "metadata": {},
   "outputs": [],
   "source": [
    "plt.plot(x, winrate)\n",
    "plt.ylim(0,1)\n",
    "print(winrate)\n"
   ]
  },
  {
   "cell_type": "code",
   "execution_count": 107,
   "metadata": {},
   "outputs": [],
   "source": [
    "\n",
    "# Specify the file path (assuming you want to write to a file in the same directory)\n",
    "file_path = 'Q2_000_000.json'\n",
    "\n",
    "\n",
    "# Open the file for writing\n",
    "with open(file_path, 'w') as file:\n",
    "    # Use json.dump to write the dictionary to the file in JSON format\n",
    "    json.dump(player.Q, file, indent=2)  # The indent parameter is optional and adds indentation for better readability\n",
    "\n",
    "# Now, loaded_dict contains the dictionary loaded from the JSON file\n",
    "\n"
   ]
  },
  {
   "cell_type": "code",
   "execution_count": null,
   "metadata": {},
   "outputs": [],
   "source": [
    "print(len(player.Q))"
   ]
  },
  {
   "cell_type": "code",
   "execution_count": 102,
   "metadata": {},
   "outputs": [
    {
     "name": "stderr",
     "output_type": "stream",
     "text": [
      "100%|██████████| 10000/10000 [01:38<00:00, 101.35it/s]\n"
     ]
    }
   ],
   "source": [
    "result_list = []\n",
    "player.exploit = True\n",
    "player.player_value = 1\n",
    "for i in tqdm(range(10000)):\n",
    "    t = Game()\n",
    "    r_p = RandomPlayer()\n",
    "    res = t.play(r_p,player)\n",
    "    result_list.append(res)\n",
    "    "
   ]
  },
  {
   "cell_type": "code",
   "execution_count": 106,
   "metadata": {},
   "outputs": [
    {
     "data": {
      "text/plain": [
       "(array([3923., 6077.]),\n",
       " array([0. , 0.5, 1. ]),\n",
       " <BarContainer object of 2 artists>)"
      ]
     },
     "execution_count": 106,
     "metadata": {},
     "output_type": "execute_result"
    },
    {
     "data": {
      "image/png": "[encoded data removed]",
      "text/plain": [
       "<Figure size 640x480 with 1 Axes>"
      ]
     },
     "metadata": {},
     "output_type": "display_data"
    }
   ],
   "source": [
    "plt.hist(result_list, 2)"
   ]
  },
  {
   "cell_type": "code",
   "execution_count": 104,
   "metadata": {},
   "outputs": [
    {
     "name": "stdout",
     "output_type": "stream",
     "text": [
      "winrate 0.6077\n"
     ]
    }
   ],
   "source": [
    "print(f\"winrate {result_list.count(1) / 10000}\")"
   ]
  },
  {
   "cell_type": "code",
   "execution_count": 108,
   "metadata": {},
   "outputs": [],
   "source": [
    "with open(\"q2_000_000.json\", \"r\") as file:\n",
    "    q_table = json.load(file)\n"
   ]
  },
  {
   "cell_type": "code",
   "execution_count": 109,
   "metadata": {},
   "outputs": [
    {
     "name": "stdout",
     "output_type": "stream",
     "text": [
      "10891207\n"
     ]
    }
   ],
   "source": [
    "print(len(q_table))"
   ]
  },
  {
   "cell_type": "code",
   "execution_count": 114,
   "metadata": {},
   "outputs": [
    {
     "name": "stderr",
     "output_type": "stream",
     "text": [
      "100%|██████████| 1000/1000 [00:05<00:00, 187.69it/s]\n",
      "100%|██████████| 1000/1000 [00:09<00:00, 108.85it/s]\n"
     ]
    },
    {
     "name": "stdout",
     "output_type": "stream",
     "text": [
      "player winrate: 0.0\n"
     ]
    },
    {
     "name": "stderr",
     "output_type": "stream",
     "text": [
      "100%|██████████| 1000/1000 [00:09<00:00, 110.98it/s]\n",
      "100%|██████████| 1000/1000 [00:09<00:00, 108.06it/s]\n"
     ]
    },
    {
     "name": "stdout",
     "output_type": "stream",
     "text": [
      "player winrate: 0.0\n"
     ]
    },
    {
     "name": "stderr",
     "output_type": "stream",
     "text": [
      "100%|██████████| 1000/1000 [00:08<00:00, 111.97it/s]\n",
      "100%|██████████| 1000/1000 [00:14<00:00, 68.64it/s]\n"
     ]
    },
    {
     "name": "stdout",
     "output_type": "stream",
     "text": [
      "player winrate: 0.0\n"
     ]
    },
    {
     "name": "stderr",
     "output_type": "stream",
     "text": [
      "100%|██████████| 1000/1000 [00:09<00:00, 109.08it/s]\n",
      "100%|██████████| 1000/1000 [00:09<00:00, 109.25it/s]\n"
     ]
    },
    {
     "name": "stdout",
     "output_type": "stream",
     "text": [
      "player winrate: 0.0\n"
     ]
    },
    {
     "name": "stderr",
     "output_type": "stream",
     "text": [
      "100%|██████████| 1000/1000 [00:08<00:00, 114.30it/s]\n",
      " 33%|███▎      | 334/1000 [00:03<00:06, 107.47it/s]\n"
     ]
    },
    {
     "ename": "KeyboardInterrupt",
     "evalue": "",
     "output_type": "error",
     "traceback": [
      "\u001b[0;31m---------------------------------------------------------------------------\u001b[0m",
      "\u001b[0;31mKeyboardInterrupt\u001b[0m                         Traceback (most recent call last)",
      "Cell \u001b[0;32mIn [114], line 17\u001b[0m\n\u001b[1;32m     15\u001b[0m     r2 \u001b[38;5;241m=\u001b[39m RandomPlayer()\n\u001b[1;32m     16\u001b[0m     t \u001b[38;5;241m=\u001b[39m Game()\n\u001b[0;32m---> 17\u001b[0m     result \u001b[38;5;241m=\u001b[39m \u001b[43mt\u001b[49m\u001b[38;5;241;43m.\u001b[39;49m\u001b[43mplay\u001b[49m\u001b[43m(\u001b[49m\u001b[43mmy_player\u001b[49m\u001b[43m,\u001b[49m\u001b[43mopponent_agent\u001b[49m\u001b[43m)\u001b[49m\n\u001b[1;32m     18\u001b[0m     results\u001b[38;5;241m.\u001b[39mappend(result)\n\u001b[1;32m     20\u001b[0m \u001b[38;5;28mprint\u001b[39m(\u001b[38;5;124mf\u001b[39m\u001b[38;5;124m\"\u001b[39m\u001b[38;5;124mplayer winrate: \u001b[39m\u001b[38;5;132;01m{\u001b[39;00mresults\u001b[38;5;241m.\u001b[39mcount(player_id) \u001b[38;5;241m/\u001b[39m num_games\u001b[38;5;132;01m}\u001b[39;00m\u001b[38;5;124m\"\u001b[39m)\n",
      "File \u001b[0;32m~/computational intelligence/computational_intelligence/quixo2/game.py:104\u001b[0m, in \u001b[0;36mGame.play\u001b[0;34m(self, player1, player2)\u001b[0m\n\u001b[1;32m    102\u001b[0m ok \u001b[39m=\u001b[39m \u001b[39mFalse\u001b[39;00m\n\u001b[1;32m    103\u001b[0m \u001b[39mwhile\u001b[39;00m \u001b[39mnot\u001b[39;00m ok:\n\u001b[0;32m--> 104\u001b[0m     from_pos, slide \u001b[39m=\u001b[39m players[\u001b[39mself\u001b[39;49m\u001b[39m.\u001b[39;49mcurrent_player_idx]\u001b[39m.\u001b[39;49mmake_move(\n\u001b[1;32m    105\u001b[0m         \u001b[39mself\u001b[39;49m)\n\u001b[1;32m    106\u001b[0m     ok \u001b[39m=\u001b[39m \u001b[39mself\u001b[39m\u001b[39m.\u001b[39m__move(from_pos, slide, \u001b[39mself\u001b[39m\u001b[39m.\u001b[39mcurrent_player_idx)\n\u001b[1;32m    107\u001b[0m winner \u001b[39m=\u001b[39m \u001b[39mself\u001b[39m\u001b[39m.\u001b[39mcheck_winner()\n",
      "Cell \u001b[0;32mIn [76], line 95\u001b[0m, in \u001b[0;36mMyPlayer.make_move\u001b[0;34m(self, game)\u001b[0m\n\u001b[1;32m     92\u001b[0m eval_weight \u001b[38;5;241m=\u001b[39m \u001b[38;5;241m1\u001b[39m \u001b[38;5;28;01mif\u001b[39;00m \u001b[38;5;28mself\u001b[39m\u001b[38;5;241m.\u001b[39mplayer_value \u001b[38;5;241m==\u001b[39m \u001b[38;5;241m0\u001b[39m \u001b[38;5;28;01melse\u001b[39;00m \u001b[38;5;241m-\u001b[39m\u001b[38;5;241m1\u001b[39m\n\u001b[1;32m     93\u001b[0m \u001b[38;5;66;03m#print(f\"move: {move}\")\u001b[39;00m\n\u001b[1;32m     94\u001b[0m \u001b[38;5;66;03m#print(f\"prev board: \\n{new_game.get_board()}\")\u001b[39;00m\n\u001b[0;32m---> 95\u001b[0m new_board, prev_pos \u001b[38;5;241m=\u001b[39m \u001b[43mnew_game\u001b[49m\u001b[38;5;241;43m.\u001b[39;49m\u001b[43mchange_board\u001b[49m\u001b[43m(\u001b[49m\u001b[43mmove\u001b[49m\u001b[43m,\u001b[49m\u001b[43m \u001b[49m\u001b[38;5;28;43mself\u001b[39;49m\u001b[38;5;241;43m.\u001b[39;49m\u001b[43mplayer_value\u001b[49m\u001b[43m)\u001b[49m\n\u001b[1;32m     96\u001b[0m \u001b[38;5;66;03m#print(f\"new board: \\n{new_game.get_board()}\")\u001b[39;00m\n\u001b[1;32m     97\u001b[0m hashed_board_state \u001b[38;5;241m=\u001b[39m \u001b[38;5;28mself\u001b[39m\u001b[38;5;241m.\u001b[39mhash_board(new_board)\n",
      "Cell \u001b[0;32mIn [76], line 23\u001b[0m, in \u001b[0;36mTraining_game.change_board\u001b[0;34m(self, move, player_id)\u001b[0m\n\u001b[1;32m     21\u001b[0m \u001b[38;5;28;01mdef\u001b[39;00m \u001b[38;5;21mchange_board\u001b[39m(\u001b[38;5;28mself\u001b[39m, move, player_id):\n\u001b[1;32m     22\u001b[0m     current_board \u001b[38;5;241m=\u001b[39m copy(\u001b[38;5;28mself\u001b[39m\u001b[38;5;241m.\u001b[39m_board)\n\u001b[0;32m---> 23\u001b[0m     success \u001b[38;5;241m=\u001b[39m \u001b[38;5;28;43mself\u001b[39;49m\u001b[38;5;241;43m.\u001b[39;49m\u001b[43mmove\u001b[49m\u001b[43m(\u001b[49m\u001b[43mmove\u001b[49m\u001b[43m,\u001b[49m\u001b[43m \u001b[49m\u001b[43mplayer_id\u001b[49m\u001b[43m)\u001b[49m\n\u001b[1;32m     24\u001b[0m     \u001b[38;5;28;01mif\u001b[39;00m success:\n\u001b[1;32m     25\u001b[0m         \u001b[38;5;28;01mreturn\u001b[39;00m \u001b[38;5;28mself\u001b[39m\u001b[38;5;241m.\u001b[39mget_board(), current_board\n",
      "Cell \u001b[0;32mIn [76], line 16\u001b[0m, in \u001b[0;36mTraining_game.move\u001b[0;34m(self, move, id)\u001b[0m\n\u001b[1;32m     15\u001b[0m \u001b[38;5;28;01mdef\u001b[39;00m \u001b[38;5;21mmove\u001b[39m(\u001b[38;5;28mself\u001b[39m, move, \u001b[38;5;28mid\u001b[39m):\n\u001b[0;32m---> 16\u001b[0m     \u001b[38;5;28;01mreturn\u001b[39;00m \u001b[38;5;28;43msuper\u001b[39;49m\u001b[43m(\u001b[49m\u001b[43m)\u001b[49m\u001b[38;5;241;43m.\u001b[39;49m\u001b[43m_Game__move\u001b[49m\u001b[43m(\u001b[49m\u001b[43mmove\u001b[49m\u001b[43m[\u001b[49m\u001b[38;5;241;43m0\u001b[39;49m\u001b[43m]\u001b[49m\u001b[43m,\u001b[49m\u001b[43m \u001b[49m\u001b[43mmove\u001b[49m\u001b[43m[\u001b[49m\u001b[38;5;241;43m1\u001b[39;49m\u001b[43m]\u001b[49m\u001b[43m,\u001b[49m\u001b[43m \u001b[49m\u001b[38;5;28;43mid\u001b[39;49m\u001b[43m)\u001b[49m\n",
      "File \u001b[0;32m~/computational intelligence/computational_intelligence/quixo2/game.py:118\u001b[0m, in \u001b[0;36mGame.__move\u001b[0;34m(self, from_pos, slide, player_id)\u001b[0m\n\u001b[1;32m    116\u001b[0m acceptable \u001b[39m=\u001b[39m \u001b[39mself\u001b[39m\u001b[39m.\u001b[39m__take((from_pos[\u001b[39m1\u001b[39m], from_pos[\u001b[39m0\u001b[39m]), player_id)\n\u001b[1;32m    117\u001b[0m \u001b[39mif\u001b[39;00m acceptable:\n\u001b[0;32m--> 118\u001b[0m     acceptable \u001b[39m=\u001b[39m \u001b[39mself\u001b[39;49m\u001b[39m.\u001b[39;49m__slide((from_pos[\u001b[39m1\u001b[39;49m], from_pos[\u001b[39m0\u001b[39;49m]), slide)\n\u001b[1;32m    119\u001b[0m     \u001b[39mif\u001b[39;00m \u001b[39mnot\u001b[39;00m acceptable:\n\u001b[1;32m    120\u001b[0m         \u001b[39mself\u001b[39m\u001b[39m.\u001b[39m_board[(from_pos[\u001b[39m1\u001b[39m], from_pos[\u001b[39m0\u001b[39m])] \u001b[39m=\u001b[39m deepcopy(prev_value)\n",
      "File \u001b[0;32m~/computational intelligence/computational_intelligence/quixo2/game.py:206\u001b[0m, in \u001b[0;36mGame.__slide\u001b[0;34m(self, from_pos, slide)\u001b[0m\n\u001b[1;32m    202\u001b[0m \u001b[39melif\u001b[39;00m slide \u001b[39m==\u001b[39m Move\u001b[39m.\u001b[39mTOP:\n\u001b[1;32m    203\u001b[0m     \u001b[39m# for each row starting from the row of the piece and going upward\u001b[39;00m\n\u001b[1;32m    204\u001b[0m     \u001b[39mfor\u001b[39;00m i \u001b[39min\u001b[39;00m \u001b[39mrange\u001b[39m(from_pos[\u001b[39m0\u001b[39m], \u001b[39m0\u001b[39m, \u001b[39m-\u001b[39m\u001b[39m1\u001b[39m):\n\u001b[1;32m    205\u001b[0m         \u001b[39m# copy the value contained in the same column and the previous row\u001b[39;00m\n\u001b[0;32m--> 206\u001b[0m         \u001b[39mself\u001b[39m\u001b[39m.\u001b[39m_board[(i, from_pos[\u001b[39m1\u001b[39m])] \u001b[39m=\u001b[39m \u001b[39mself\u001b[39m\u001b[39m.\u001b[39m_board[(\n\u001b[1;32m    207\u001b[0m             i \u001b[39m-\u001b[39m \u001b[39m1\u001b[39m, from_pos[\u001b[39m1\u001b[39m])]\n\u001b[1;32m    208\u001b[0m     \u001b[39m# move the piece up\u001b[39;00m\n\u001b[1;32m    209\u001b[0m     \u001b[39mself\u001b[39m\u001b[39m.\u001b[39m_board[(\u001b[39m0\u001b[39m, from_pos[\u001b[39m1\u001b[39m])] \u001b[39m=\u001b[39m piece\n",
      "\u001b[0;31mKeyboardInterrupt\u001b[0m: "
     ]
    }
   ],
   "source": [
    "num_training_games = 1000\n",
    "player_id = 0\n",
    "num_epochs = 100\n",
    "my_player = MyPlayer(player_id, 0.01, 0.9, num_training_games, False)\n",
    "my_player.Q = q_table\n",
    "\n",
    "opponent_agent = MyPlayer(1, 0, 0, 2000000, True)\n",
    "opponent_agent.Q = q_table\n",
    "x = []\n",
    "w = []\n",
    "for i in range(num_epochs):\n",
    "    my_player.train(num_training_games)\n",
    "    num_games = 1000\n",
    "    results = []\n",
    "    for _ in tqdm(range(num_games)):\n",
    "        r2 = RandomPlayer()\n",
    "        t = Game()\n",
    "        result = t.play(my_player,r)\n",
    "        results.append(result)\n",
    "\n",
    "    print(f\"player winrate: {results.count(player_id) / num_games}\")\n",
    "    #print(f\"random winrate: {results.count(1-player_id) / num_games}\")\n",
    "\n",
    "    w.append(results.count(player_id) / num_games)\n",
    "    x.append(i * num_training_games)\n",
    "    \n",
    "plt.plot(x, w)\n"
   ]
  },
  {
   "cell_type": "code",
   "execution_count": null,
   "metadata": {},
   "outputs": [],
   "source": []
  }
 ],
 "metadata": {
  "kernelspec": {
   "display_name": "Python 3.10.7 64-bit",
   "language": "python",
   "name": "python3"
  },
  "language_info": {
   "codemirror_mode": {
    "name": "ipython",
    "version": 3
   },
   "file_extension": ".py",
   "mimetype": "text/x-python",
   "name": "python",
   "nbconvert_exporter": "python",
   "pygments_lexer": "ipython3",
   "version": "3.10.7"
  },
  "orig_nbformat": 4,
  "vscode": {
   "interpreter": {
    "hash": "aee8b7b246df8f9039afb4144a1f6fd8d2ca17a180786b69acc140d282b71a49"
   }
  }
 },
 "nbformat": 4,
 "nbformat_minor": 2
}
