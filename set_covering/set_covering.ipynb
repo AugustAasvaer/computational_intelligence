{
 "cells": [
  {
   "cell_type": "code",
   "execution_count": 73,
   "metadata": {},
   "outputs": [],
   "source": [
    "from random import random\n",
    "from functools import reduce\n",
    "from collections import namedtuple\n",
    "from queue import PriorityQueue, SimpleQueue, LifoQueue\n",
    "\n",
    "import numpy as np"
   ]
  },
  {
   "cell_type": "code",
   "execution_count": 96,
   "metadata": {},
   "outputs": [],
   "source": [
    "PROBLEM_SIZE = 20\n",
    "NUM_SETS = 40\n",
    "SETS = tuple(np.array([random() < .3 for _ in range(PROBLEM_SIZE)]) for _ in range(NUM_SETS))\n",
    "State = namedtuple('State', ['taken', 'not_taken'])"
   ]
  },
  {
   "cell_type": "code",
   "execution_count": 97,
   "metadata": {},
   "outputs": [],
   "source": [
    "def goal_check(state):\n",
    "    return np.all(reduce(np.logical_or, [SETS[i] for i in state.taken], np.array([False for _ in range(PROBLEM_SIZE)])))"
   ]
  },
  {
   "cell_type": "code",
   "execution_count": 98,
   "metadata": {},
   "outputs": [],
   "source": [
    "assert goal_check(State(set(range(NUM_SETS)), set())), \"Probelm not solvable\""
   ]
  },
  {
   "cell_type": "code",
   "execution_count": 103,
   "metadata": {},
   "outputs": [],
   "source": [
    "\"\"\"\n",
    "Defines a class: priority_queue that implements the methods put and get.\n",
    "Methods: Put() and Get()\n",
    "\"\"\"\n",
    "\n",
    "class protiorty_queue():\n",
    "    queue = []\n",
    "    \n",
    "    # The Put method simply adds a state to the queue\n",
    "    def put(self, element):\n",
    "        self.queue.append(element)\n",
    "    \n",
    "    # The get method returns the set with the highest number of covered points not in the current state\n",
    "    def get(self):\n",
    "        shortest = np.inf\n",
    "        best_action = State(set(), set(range(NUM_SETS)))\n",
    "        for element in self.queue:\n",
    "            sets = [SETS[i] for i in element.taken]\n",
    "            if (not len(sets)):\n",
    "                break\n",
    "            covered = np.sum(reduce(np.logical_or, sets))\n",
    "            if (PROBLEM_SIZE -  covered < shortest):\n",
    "                shortest = PROBLEM_SIZE - covered\n",
    "                best_action = element\n",
    "        self.queue.remove(best_action)\n",
    "        return best_action"
   ]
  },
  {
   "cell_type": "code",
   "execution_count": 104,
   "metadata": {},
   "outputs": [],
   "source": [
    "frontier = protiorty_queue()\n",
    "initial_state = State(set(), set(range(NUM_SETS)))\n",
    "frontier.put(initial_state)"
   ]
  },
  {
   "cell_type": "code",
   "execution_count": 101,
   "metadata": {},
   "outputs": [
    {
     "name": "stdout",
     "output_type": "stream",
     "text": [
      "Solved in 3 steps\n"
     ]
    }
   ],
   "source": [
    "counter = 0\n",
    "current_state = frontier.get()\n",
    "while counter < 10 and not goal_check(current_state):\n",
    "    counter += 1\n",
    "    for action in current_state[1]:\n",
    "        new_state = State(current_state.taken ^ {action}, current_state.not_taken ^ {action})\n",
    "        frontier.put(new_state)\n",
    "    new_state = frontier.get()\n",
    "    current_state = new_state\n",
    "\n",
    "print(f\"Solved in {counter:,} steps\")"
   ]
  },
  {
   "cell_type": "code",
   "execution_count": 102,
   "metadata": {},
   "outputs": [
    {
     "data": {
      "text/plain": [
       "State(taken={33, 3, 13}, not_taken={0, 1, 2, 4, 5, 6, 7, 8, 9, 10, 11, 12, 14, 15, 16, 17, 18, 19, 20, 21, 22, 23, 24, 25, 26, 27, 28, 29, 30, 31, 32, 34, 35, 36, 37, 38, 39})"
      ]
     },
     "execution_count": 102,
     "metadata": {},
     "output_type": "execute_result"
    }
   ],
   "source": [
    "current_state\n"
   ]
  },
  {
   "cell_type": "code",
   "execution_count": null,
   "metadata": {},
   "outputs": [],
   "source": []
  }
 ],
 "metadata": {
  "kernelspec": {
   "display_name": "Python 3.10.9 ('source': venv)",
   "language": "python",
   "name": "python3"
  },
  "language_info": {
   "codemirror_mode": {
    "name": "ipython",
    "version": 3
   },
   "file_extension": ".py",
   "mimetype": "text/x-python",
   "name": "python",
   "nbconvert_exporter": "python",
   "pygments_lexer": "ipython3",
   "version": "3.10.9"
  },
  "orig_nbformat": 4,
  "vscode": {
   "interpreter": {
    "hash": "1ce67d05b6db707c8280e9d854cf697c13c17f882a776097e3ef0fa775dfac8c"
   }
  }
 },
 "nbformat": 4,
 "nbformat_minor": 2
}
