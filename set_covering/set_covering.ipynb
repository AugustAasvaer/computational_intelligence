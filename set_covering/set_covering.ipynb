{
 "cells": [
  {
   "cell_type": "code",
   "execution_count": 4,
   "metadata": {},
   "outputs": [],
   "source": [
    "from random import random\n",
    "from functools import reduce\n",
    "from collections import namedtuple\n",
    "from queue import PriorityQueue, SimpleQueue, LifoQueue\n",
    "\n",
    "import numpy as np"
   ]
  },
  {
   "cell_type": "code",
   "execution_count": 5,
   "metadata": {},
   "outputs": [],
   "source": [
    "PROBLEM_SIZE = 5\n",
    "NUM_SETS = 10\n",
    "SETS = tuple(np.array([random() < .3 for _ in range(PROBLEM_SIZE)]) for _ in range(NUM_SETS))\n",
    "State = namedtuple('State', ['taken', 'not_taken'])"
   ]
  },
  {
   "cell_type": "code",
   "execution_count": 6,
   "metadata": {},
   "outputs": [],
   "source": [
    "def goal_check(state):\n",
    "    return np.all(reduce(np.logical_or, [SETS[i] for i in state.taken], np.array([False for _ in range(PROBLEM_SIZE)])))"
   ]
  },
  {
   "cell_type": "code",
   "execution_count": 7,
   "metadata": {},
   "outputs": [],
   "source": [
    "assert goal_check(State(set(range(NUM_SETS)), set())), \"Probelm not solvable\""
   ]
  },
  {
   "cell_type": "code",
   "execution_count": 69,
   "metadata": {},
   "outputs": [],
   "source": [
    "class protiorty_queue():\n",
    "    queue = []\n",
    "\n",
    "    def put(self, element):\n",
    "        self.queue.append(element)\n",
    "    \n",
    "    def get(self):\n",
    "        shortest = np.inf\n",
    "        best_action = State(set(), set(range(NUM_SETS)))\n",
    "        for element in self.queue:\n",
    "            sets = [SETS[i] for i in element.taken]\n",
    "            if (not len(sets)):\n",
    "                break\n",
    "            covered = np.sum(reduce(np.logical_or, sets))\n",
    "            if (PROBLEM_SIZE -  covered < shortest):\n",
    "                shortest = PROBLEM_SIZE - covered\n",
    "                best_action = element\n",
    "        self.queue.remove(best_action)\n",
    "        return best_action\n",
    "            \n",
    "\n"
   ]
  },
  {
   "cell_type": "code",
   "execution_count": 70,
   "metadata": {},
   "outputs": [],
   "source": [
    "frontier = protiorty_queue()\n",
    "initial_state = State(set(), set(range(NUM_SETS)))\n",
    "frontier.put(initial_state)"
   ]
  },
  {
   "cell_type": "code",
   "execution_count": 71,
   "metadata": {},
   "outputs": [
    {
     "name": "stdout",
     "output_type": "stream",
     "text": [
      "State(taken={8}, not_taken={0, 1, 2, 3, 4, 5, 6, 7, 9})\n",
      "State(taken={8, 5}, not_taken={0, 1, 2, 3, 4, 6, 7, 9})\n",
      "State(taken={8, 5, 7}, not_taken={0, 1, 2, 3, 4, 6, 9})\n",
      "Solved in 3 steps\n"
     ]
    }
   ],
   "source": [
    "counter = 0\n",
    "current_state = frontier.get()\n",
    "while counter < 10 and not goal_check(current_state):\n",
    "    counter += 1\n",
    "    for action in current_state[1]:\n",
    "        new_state = State(current_state.taken ^ {action}, current_state.not_taken ^ {action})\n",
    "        frontier.put(new_state)\n",
    "    new_state = frontier.get()\n",
    "    current_state = new_state\n",
    "\n",
    "print(f\"Solved in {counter:,} steps\")"
   ]
  },
  {
   "cell_type": "code",
   "execution_count": 72,
   "metadata": {},
   "outputs": [
    {
     "data": {
      "text/plain": [
       "State(taken={8, 5, 7}, not_taken={0, 1, 2, 3, 4, 6, 9})"
      ]
     },
     "execution_count": 72,
     "metadata": {},
     "output_type": "execute_result"
    }
   ],
   "source": [
    "current_state\n"
   ]
  },
  {
   "cell_type": "code",
   "execution_count": null,
   "metadata": {},
   "outputs": [],
   "source": []
  }
 ],
 "metadata": {
  "kernelspec": {
   "display_name": "Python 3.10.9 ('source': venv)",
   "language": "python",
   "name": "python3"
  },
  "language_info": {
   "codemirror_mode": {
    "name": "ipython",
    "version": 3
   },
   "file_extension": ".py",
   "mimetype": "text/x-python",
   "name": "python",
   "nbconvert_exporter": "python",
   "pygments_lexer": "ipython3",
   "version": "3.10.9"
  },
  "orig_nbformat": 4,
  "vscode": {
   "interpreter": {
    "hash": "1ce67d05b6db707c8280e9d854cf697c13c17f882a776097e3ef0fa775dfac8c"
   }
  }
 },
 "nbformat": 4,
 "nbformat_minor": 2
}
