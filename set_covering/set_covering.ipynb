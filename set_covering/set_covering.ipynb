{
 "cells": [
  {
   "cell_type": "code",
   "execution_count": 3,
   "metadata": {},
   "outputs": [],
   "source": [
    "from random import random\n",
    "from functools import reduce\n",
    "from collections import namedtuple\n",
    "from queue import PriorityQueue, SimpleQueue, LifoQueue\n",
    "\n",
    "import numpy as np"
   ]
  },
  {
   "cell_type": "code",
   "execution_count": 118,
   "metadata": {},
   "outputs": [],
   "source": [
    "PROBLEM_SIZE = 10\n",
    "NUM_SETS = 15\n",
    "SETS = tuple(np.array([random() < .3 for _ in range(PROBLEM_SIZE)]) for _ in range(NUM_SETS))\n",
    "State = namedtuple('State', ['taken', 'not_taken'])"
   ]
  },
  {
   "cell_type": "code",
   "execution_count": 119,
   "metadata": {},
   "outputs": [],
   "source": [
    "def goal_check(state):\n",
    "    return np.all(reduce(np.logical_or, [SETS[i] for i in state.taken], np.array([False for _ in range(PROBLEM_SIZE)])))\n",
    "\n",
    "def distance_old(state):\n",
    "    return PROBLEM_SIZE - np.sum(reduce(np.logical_or, [SETS[i] for i in state.taken], np.array([False for _ in range(PROBLEM_SIZE)])))"
   ]
  },
  {
   "cell_type": "code",
   "execution_count": 120,
   "metadata": {},
   "outputs": [],
   "source": [
    "assert goal_check(State(set(range(NUM_SETS)), set())), \"Probelm not solvable\""
   ]
  },
  {
   "cell_type": "code",
   "execution_count": 23,
   "metadata": {},
   "outputs": [],
   "source": [
    "def f(state):\n",
    "    return len(state.taken)"
   ]
  },
  {
   "cell_type": "code",
   "execution_count": 52,
   "metadata": {},
   "outputs": [],
   "source": [
    "def number_of_special_sets(state):\n",
    "    sets = [SETS[i] for i in range(len(state.not_taken))]\n",
    "    counts = np.sum(sets, axis=0)\n",
    "    count = list(counts).count(1)\n",
    "    return count"
   ]
  },
  {
   "cell_type": "code",
   "execution_count": 68,
   "metadata": {},
   "outputs": [],
   "source": [
    "def find_set_covers(state):\n",
    "    coverings = {i: [] for i in range(PROBLEM_SIZE)}\n",
    "    #sets_left = list(state.not_taken)\n",
    "    sets = [SETS[element] for element in state.not_taken]\n",
    "    for i in range(len(sets)):\n",
    "        for j in range(PROBLEM_SIZE):\n",
    "            if (sets[i][j]):\n",
    "                coverings[j].append(i)\n",
    "    return coverings\n"
   ]
  },
  {
   "cell_type": "code",
   "execution_count": 69,
   "metadata": {},
   "outputs": [],
   "source": [
    "def get_special_sets(state):\n",
    "    special_sets = []\n",
    "    coverings = find_set_covers(state)  \n",
    "    for value in coverings.values():\n",
    "        if(len(value) == 1):\n",
    "            special_sets.append(value[0])\n",
    "    return special_sets"
   ]
  },
  {
   "cell_type": "code",
   "execution_count": 108,
   "metadata": {},
   "outputs": [],
   "source": [
    "def h(state):\n",
    "    special_sets = get_special_sets(state)\n",
    "    for special_set in special_sets:\n",
    "        if (goal_check(State(state.taken ^ {special_sets[0]}, state.not_taken ^ {special_sets[0]}))):\n",
    "            return 1\n",
    "    if (len(special_sets) > 0):\n",
    "        return len(special_sets) + 1\n",
    "    return distance_old(state)"
   ]
  },
  {
   "cell_type": "code",
   "execution_count": 97,
   "metadata": {},
   "outputs": [],
   "source": [
    "def distance(state):\n",
    "    return f(state) + h(state)"
   ]
  },
  {
   "cell_type": "code",
   "execution_count": 98,
   "metadata": {},
   "outputs": [],
   "source": [
    "\"\"\"\n",
    "Defines a class: priority_queue that implements the methods put and get.\n",
    "Methods: Put() and Get()\n",
    "\"\"\"\n",
    "\n",
    "class protiorty_queue():\n",
    "    queue = []\n",
    "    \n",
    "    # The Put method simply adds a state to the queue\n",
    "    def put(self, element):\n",
    "        self.queue.append(element)\n",
    "    \n",
    "    # The get method returns the set with the highest number of covered points not in the current state\n",
    "    def get(self):\n",
    "        shortest = np.inf\n",
    "        best_action = State(set(), set(range(NUM_SETS)))\n",
    "        for element in self.queue:\n",
    "            sets = [SETS[i] for i in element.taken]\n",
    "            if (not len(sets)):\n",
    "                break\n",
    "            covered = np.sum(reduce(np.logical_or, sets))\n",
    "            if (PROBLEM_SIZE -  covered < shortest):\n",
    "                shortest = PROBLEM_SIZE - covered\n",
    "                best_action = element\n",
    "        self.queue.remove(best_action)\n",
    "        return best_action\n"
   ]
  },
  {
   "cell_type": "code",
   "execution_count": 121,
   "metadata": {},
   "outputs": [
    {
     "name": "stdout",
     "output_type": "stream",
     "text": [
      "Solved in 1,446 steps (3 tiles)\n"
     ]
    }
   ],
   "source": [
    "# frontier = PriorityQueue()\n",
    "frontier = SimpleQueue()\n",
    "state = State(set(), set(range(NUM_SETS)))\n",
    "frontier.put((distance_old(state), state))\n",
    "\n",
    "counter = 0\n",
    "_, current_state = frontier.get()\n",
    "while not goal_check(current_state):\n",
    "    counter += 1\n",
    "    for action in current_state[1]:\n",
    "        new_state = State(\n",
    "            current_state.taken ^ {action},\n",
    "            current_state.not_taken ^ {action},\n",
    "        )\n",
    "        frontier.put((distance_old(new_state), new_state))\n",
    "    _, current_state = frontier.get()\n",
    "\n",
    "print(\n",
    "    f\"Solved in {counter:,} steps ({len(current_state.taken)} tiles)\"\n",
    ")"
   ]
  },
  {
   "cell_type": "code",
   "execution_count": 117,
   "metadata": {},
   "outputs": [
    {
     "data": {
      "text/plain": [
       "[]"
      ]
     },
     "execution_count": 117,
     "metadata": {},
     "output_type": "execute_result"
    }
   ],
   "source": [
    "get_special_sets(state)"
   ]
  },
  {
   "cell_type": "code",
   "execution_count": null,
   "metadata": {},
   "outputs": [],
   "source": []
  }
 ],
 "metadata": {
  "kernelspec": {
   "display_name": "Python 3.10.9 ('source': venv)",
   "language": "python",
   "name": "python3"
  },
  "language_info": {
   "codemirror_mode": {
    "name": "ipython",
    "version": 3
   },
   "file_extension": ".py",
   "mimetype": "text/x-python",
   "name": "python",
   "nbconvert_exporter": "python",
   "pygments_lexer": "ipython3",
   "version": "3.10.9"
  },
  "orig_nbformat": 4,
  "vscode": {
   "interpreter": {
    "hash": "1ce67d05b6db707c8280e9d854cf697c13c17f882a776097e3ef0fa775dfac8c"
   }
  }
 },
 "nbformat": 4,
 "nbformat_minor": 2
}
