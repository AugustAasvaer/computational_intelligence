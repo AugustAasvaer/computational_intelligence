{
 "cells": [
  {
   "cell_type": "code",
   "execution_count": 1,
   "metadata": {},
   "outputs": [],
   "source": [
    "from random import random, choice, randint\n",
    "from functools import reduce\n",
    "from collections import namedtuple\n",
    "from queue import PriorityQueue, SimpleQueue, LifoQueue\n",
    "from copy import copy\n",
    "\n",
    "import numpy as np"
   ]
  },
  {
   "cell_type": "code",
   "execution_count": 2,
   "metadata": {},
   "outputs": [],
   "source": [
    "PROBLEM_SIZE = 10\n",
    "NUM_SETS = 30\n",
    "SETS = tuple(np.array([random() < 0.3 for _ in range(PROBLEM_SIZE)]) for _ in range(NUM_SETS))\n",
    "State = namedtuple('State', ['taken', 'not_taken'])"
   ]
  },
  {
   "cell_type": "code",
   "execution_count": 3,
   "metadata": {},
   "outputs": [],
   "source": [
    "def evaluate(state):\n",
    "    cost = sum(state)\n",
    "    valid = np.all(\n",
    "        reduce(\n",
    "            np.logical_or,\n",
    "            [SETS[i] for i, t in enumerate(state) if t],\n",
    "            np.array([False for _ in range(PROBLEM_SIZE)]),\n",
    "        )\n",
    "    )\n",
    "    return valid, -cost if valid else 0"
   ]
  },
  {
   "cell_type": "code",
   "execution_count": 4,
   "metadata": {},
   "outputs": [],
   "source": [
    "def tweak(state):\n",
    "    new_state = copy(state)\n",
    "    index = randint(0, PROBLEM_SIZE - 1)\n",
    "    new_state[index] = not new_state[index]\n",
    "    return new_state"
   ]
  },
  {
   "cell_type": "code",
   "execution_count": 5,
   "metadata": {},
   "outputs": [],
   "source": [
    "def tweak2(state, n):\n",
    "    best_state = state\n",
    "    for _ in range(n):\n",
    "        new_state = tweak(state)\n",
    "        if (evaluate(new_state) >= evaluate(best_state)):\n",
    "            best_state = new_state\n",
    "    return best_state"
   ]
  },
  {
   "cell_type": "code",
   "execution_count": 9,
   "metadata": {},
   "outputs": [
    {
     "name": "stdout",
     "output_type": "stream",
     "text": [
      "[True, False, True, False, True, False, False, True, True, True] (False, 0)\n",
      "[True, False, True, False, True, False, True, True, True, True] (True, -7)\n",
      "[True, False, True, False, False, False, True, True, True, True] (True, -6)\n",
      "[True, False, True, False, False, False, True, True, True, False] (True, -5)\n",
      "[True, False, True, False, False, False, True, True, True, False] (True, -5)\n",
      "[False, False, True, False, False, False, True, True, True, False] (True, -4)\n",
      "[False, False, True, False, False, False, True, True, True, False] (True, -4)\n",
      "[False, False, True, False, False, False, True, True, True, False] (True, -4)\n",
      "[False, False, True, False, False, False, True, True, True, False] (True, -4)\n",
      "[False, False, True, False, False, False, True, True, True, False] (True, -4)\n",
      "[False, False, True, False, False, False, True, True, True, False] (True, -4)\n",
      "[False, False, True, False, False, False, True, True, True, False] (True, -4)\n",
      "[False, False, True, False, False, False, True, True, True, False] (True, -4)\n",
      "[False, False, True, False, False, False, True, True, True, False] (True, -4)\n",
      "[False, False, True, False, False, False, True, True, True, False] (True, -4)\n",
      "[False, False, True, False, False, False, True, True, True, False] (True, -4)\n",
      "[False, False, True, False, False, False, True, True, True, False] (True, -4)\n",
      "[False, False, True, False, False, False, True, True, True, False] (True, -4)\n",
      "[False, False, True, False, False, False, True, True, True, False] (True, -4)\n",
      "[False, False, True, False, False, False, True, True, True, False] (True, -4)\n",
      "[False, False, True, False, False, False, True, True, True, False] (True, -4)\n",
      "[False, False, True, False, False, False, True, True, True, False] (True, -4)\n",
      "[False, False, True, False, False, False, True, True, True, False] (True, -4)\n",
      "[False, False, True, False, False, False, True, True, True, False] (True, -4)\n",
      "[False, False, True, False, False, False, True, True, True, False] (True, -4)\n",
      "[False, False, True, False, False, False, True, True, True, False] (True, -4)\n",
      "[False, False, True, False, False, False, True, True, True, False] (True, -4)\n",
      "[False, False, True, False, False, False, True, True, True, False] (True, -4)\n",
      "[False, False, True, False, False, False, True, True, True, False] (True, -4)\n",
      "[False, False, True, False, False, False, True, True, True, False] (True, -4)\n",
      "[False, False, True, False, False, False, True, True, True, False] (True, -4)\n",
      "[False, False, True, False, False, False, True, True, True, False] (True, -4)\n",
      "[False, False, True, False, False, False, True, True, True, False] (True, -4)\n",
      "[False, False, True, False, False, False, True, True, True, False] (True, -4)\n",
      "[False, False, True, False, False, False, True, True, True, False] (True, -4)\n",
      "[False, False, True, False, False, False, True, True, True, False] (True, -4)\n",
      "[False, False, True, False, False, False, True, True, True, False] (True, -4)\n",
      "[False, False, True, False, False, False, True, True, True, False] (True, -4)\n",
      "[False, False, True, False, False, False, True, True, True, False] (True, -4)\n",
      "[False, False, True, False, False, False, True, True, True, False] (True, -4)\n",
      "[False, False, True, False, False, False, True, True, True, False] (True, -4)\n",
      "[False, False, True, False, False, False, True, True, True, False] (True, -4)\n",
      "[False, False, True, False, False, False, True, True, True, False] (True, -4)\n",
      "[False, False, True, False, False, False, True, True, True, False] (True, -4)\n",
      "[False, False, True, False, False, False, True, True, True, False] (True, -4)\n",
      "[False, False, True, False, False, False, True, True, True, False] (True, -4)\n",
      "[False, False, True, False, False, False, True, True, True, False] (True, -4)\n",
      "[False, False, True, False, False, False, True, True, True, False] (True, -4)\n",
      "[False, False, True, False, False, False, True, True, True, False] (True, -4)\n",
      "[False, False, True, False, False, False, True, True, True, False] (True, -4)\n",
      "[False, False, True, False, False, False, True, True, True, False] (True, -4)\n",
      "[False, False, True, False, False, False, True, True, True, False] (True, -4)\n",
      "[False, False, True, False, False, False, True, True, True, False] (True, -4)\n",
      "[False, False, True, False, False, False, True, True, True, False] (True, -4)\n",
      "[False, False, True, False, False, False, True, True, True, False] (True, -4)\n",
      "[False, False, True, False, False, False, True, True, True, False] (True, -4)\n",
      "[False, False, True, False, False, False, True, True, True, False] (True, -4)\n",
      "[False, False, True, False, False, False, True, True, True, False] (True, -4)\n",
      "[False, False, True, False, False, False, True, True, True, False] (True, -4)\n",
      "[False, False, True, False, False, False, True, True, True, False] (True, -4)\n",
      "[False, False, True, False, False, False, True, True, True, False] (True, -4)\n",
      "[False, False, True, False, False, False, True, True, True, False] (True, -4)\n",
      "[False, False, True, False, False, False, True, True, True, False] (True, -4)\n",
      "[False, False, True, False, False, False, True, True, True, False] (True, -4)\n",
      "[False, False, True, False, False, False, True, True, True, False] (True, -4)\n",
      "[False, False, True, False, False, False, True, True, True, False] (True, -4)\n",
      "[False, False, True, False, False, False, True, True, True, False] (True, -4)\n",
      "[False, False, True, False, False, False, True, True, True, False] (True, -4)\n",
      "[False, False, True, False, False, False, True, True, True, False] (True, -4)\n",
      "[False, False, True, False, False, False, True, True, True, False] (True, -4)\n",
      "[False, False, True, False, False, False, True, True, True, False] (True, -4)\n",
      "[False, False, True, False, False, False, True, True, True, False] (True, -4)\n",
      "[False, False, True, False, False, False, True, True, True, False] (True, -4)\n",
      "[False, False, True, False, False, False, True, True, True, False] (True, -4)\n",
      "[False, False, True, False, False, False, True, True, True, False] (True, -4)\n",
      "[False, False, True, False, False, False, True, True, True, False] (True, -4)\n",
      "[False, False, True, False, False, False, True, True, True, False] (True, -4)\n",
      "[False, False, True, False, False, False, True, True, True, False] (True, -4)\n",
      "[False, False, True, False, False, False, True, True, True, False] (True, -4)\n",
      "[False, False, True, False, False, False, True, True, True, False] (True, -4)\n",
      "[False, False, True, False, False, False, True, True, True, False] (True, -4)\n",
      "[False, False, True, False, False, False, True, True, True, False] (True, -4)\n",
      "[False, False, True, False, False, False, True, True, True, False] (True, -4)\n",
      "[False, False, True, False, False, False, True, True, True, False] (True, -4)\n",
      "[False, False, True, False, False, False, True, True, True, False] (True, -4)\n",
      "[False, False, True, False, False, False, True, True, True, False] (True, -4)\n",
      "[False, False, True, False, False, False, True, True, True, False] (True, -4)\n",
      "[False, False, True, False, False, False, True, True, True, False] (True, -4)\n",
      "[False, False, True, False, False, False, True, True, True, False] (True, -4)\n",
      "[False, False, True, False, False, False, True, True, True, False] (True, -4)\n",
      "[False, False, True, False, False, False, True, True, True, False] (True, -4)\n",
      "[False, False, True, False, False, False, True, True, True, False] (True, -4)\n",
      "[False, False, True, False, False, False, True, True, True, False] (True, -4)\n",
      "[False, False, True, False, False, False, True, True, True, False] (True, -4)\n",
      "[False, False, True, False, False, False, True, True, True, False] (True, -4)\n",
      "[False, False, True, False, False, False, True, True, True, False] (True, -4)\n",
      "[False, False, True, False, False, False, True, True, True, False] (True, -4)\n",
      "[False, False, True, False, False, False, True, True, True, False] (True, -4)\n",
      "[False, False, True, False, False, False, True, True, True, False] (True, -4)\n",
      "[False, False, True, False, False, False, True, True, True, False] (True, -4)\n",
      "[False, False, True, False, False, False, True, True, True, False] (True, -4)\n"
     ]
    }
   ],
   "source": [
    "current_state = [choice([True, False]) for _ in range(PROBLEM_SIZE)]\n",
    "print(current_state, evaluate(current_state))\n",
    "\n",
    "for step in range(100):\n",
    "    #new_state = tweak(current_state)\n",
    "    new_state = tweak2(current_state, 10)\n",
    "    if evaluate(new_state) >= evaluate(current_state):\n",
    "        current_state = new_state\n",
    "    print(current_state, evaluate(current_state))"
   ]
  },
  {
   "cell_type": "code",
   "execution_count": 10,
   "metadata": {},
   "outputs": [
    {
     "data": {
      "text/plain": [
       "[False, False, True, False, False, False, True, True, True, False]"
      ]
     },
     "execution_count": 10,
     "metadata": {},
     "output_type": "execute_result"
    }
   ],
   "source": [
    "current_state"
   ]
  },
  {
   "cell_type": "code",
   "execution_count": 8,
   "metadata": {},
   "outputs": [],
   "source": [
    "def covered(state):\n",
    "    return reduce(\n",
    "        np.logical_or,\n",
    "        [SETS[i] for i in state],\n",
    "        np.array([False for _ in range(PROBLEM_SIZE)]),\n",
    "    )\n",
    "\n",
    "def goal_check(state):\n",
    "    return np.all(covered(state))"
   ]
  },
  {
   "cell_type": "code",
   "execution_count": null,
   "metadata": {},
   "outputs": [],
   "source": []
  }
 ],
 "metadata": {
  "kernelspec": {
   "display_name": "Python 3.10.9 ('source': venv)",
   "language": "python",
   "name": "python3"
  },
  "language_info": {
   "codemirror_mode": {
    "name": "ipython",
    "version": 3
   },
   "file_extension": ".py",
   "mimetype": "text/x-python",
   "name": "python",
   "nbconvert_exporter": "python",
   "pygments_lexer": "ipython3",
   "version": "3.10.9"
  },
  "orig_nbformat": 4,
  "vscode": {
   "interpreter": {
    "hash": "1ce67d05b6db707c8280e9d854cf697c13c17f882a776097e3ef0fa775dfac8c"
   }
  }
 },
 "nbformat": 4,
 "nbformat_minor": 2
}
